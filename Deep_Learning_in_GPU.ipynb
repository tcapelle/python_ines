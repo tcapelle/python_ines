{
  "nbformat": 4,
  "nbformat_minor": 0,
  "metadata": {
    "colab": {
      "name": "Deep Learning in GPU.ipynb",
      "version": "0.3.2",
      "provenance": [],
      "collapsed_sections": [
        "QVPVCO0OwYUw",
        "8taCHuLpwcSP",
        "xmZRKK7XnVYp",
        "Hbzbdu3yn7dp"
      ],
      "include_colab_link": true
    },
    "kernelspec": {
      "name": "python3",
      "display_name": "Python 3"
    },
    "accelerator": "GPU"
  },
  "cells": [
    {
      "cell_type": "markdown",
      "metadata": {
        "id": "view-in-github",
        "colab_type": "text"
      },
      "source": [
        "<a href=\"https://colab.research.google.com/github/tcapelle/python_ines/blob/master/Deep_Learning_in_GPU.ipynb\" target=\"_parent\"><img src=\"https://colab.research.google.com/assets/colab-badge.svg\" alt=\"Open In Colab\"/></a>"
      ]
    },
    {
      "metadata": {
        "id": "QVPVCO0OwYUw",
        "colab_type": "text"
      },
      "cell_type": "markdown",
      "source": [
        "# Setup"
      ]
    },
    {
      "metadata": {
        "id": "_wD_l3R-cGVV",
        "colab_type": "code",
        "outputId": "b9f48fa9-ea24-4ffe-acde-a72c54e4dc46",
        "colab": {
          "base_uri": "https://localhost:8080/",
          "height": 1424
        }
      },
      "cell_type": "code",
      "source": [
        " !curl https://raw.githubusercontent.com/tcapelle/python_ines/master/colab | bash"
      ],
      "execution_count": 1,
      "outputs": [
        {
          "output_type": "stream",
          "text": [
            "  % Total    % Received % Xferd  Average Speed   Time    Time     Time  Current\n",
            "                                 Dload  Upload   Total   Spent    Left  Speed\n",
            "\r  0     0    0     0    0     0      0      0 --:--:-- --:--:-- --:--:--     0\r100   383  100   383    0     0   1160      0 --:--:-- --:--:-- --:--:--  1160\n",
            "Requirement already satisfied: pillow in /usr/local/lib/python3.6/dist-packages (4.0.0)\n",
            "Requirement already satisfied: olefile in /usr/local/lib/python3.6/dist-packages (from pillow) (0.46)\n",
            "Collecting fastai\n",
            "\u001b[?25l  Downloading https://files.pythonhosted.org/packages/f5/17/b5ab3f9a44b45661d9eb6e29001fe39c39ebb287ce9a9f1670d07bda0d4d/fastai-1.0.39-py3-none-any.whl (150kB)\n",
            "\u001b[K    100% |████████████████████████████████| 153kB 6.8MB/s \n",
            "\u001b[?25hRequirement already satisfied, skipping upgrade: numpy>=1.12 in /usr/local/lib/python3.6/dist-packages (from fastai) (1.14.6)\n",
            "Requirement already satisfied, skipping upgrade: numexpr in /usr/local/lib/python3.6/dist-packages (from fastai) (2.6.9)\n",
            "Requirement already satisfied, skipping upgrade: scipy in /usr/local/lib/python3.6/dist-packages (from fastai) (1.1.0)\n",
            "Collecting torchvision (from fastai)\n",
            "\u001b[?25l  Downloading https://files.pythonhosted.org/packages/ca/0d/f00b2885711e08bd71242ebe7b96561e6f6d01fdb4b9dcf4d37e2e13c5e1/torchvision-0.2.1-py2.py3-none-any.whl (54kB)\n",
            "\u001b[K    100% |████████████████████████████████| 61kB 26.1MB/s \n",
            "\u001b[?25hCollecting torch (from fastai)\n",
            "\u001b[?25l  Downloading https://files.pythonhosted.org/packages/7e/60/66415660aa46b23b5e1b72bc762e816736ce8d7260213e22365af51e8f9c/torch-1.0.0-cp36-cp36m-manylinux1_x86_64.whl (591.8MB)\n",
            "\u001b[K    100% |████████████████████████████████| 591.8MB 25kB/s \n",
            "tcmalloc: large alloc 1073750016 bytes == 0x6103a000 @  0x7fdf626ee2a4 0x591a07 0x5b5d56 0x502e9a 0x506859 0x502209 0x502f3d 0x506859 0x504c28 0x502540 0x502f3d 0x506859 0x504c28 0x502540 0x502f3d 0x506859 0x504c28 0x502540 0x502f3d 0x507641 0x502209 0x502f3d 0x506859 0x504c28 0x502540 0x502f3d 0x507641 0x504c28 0x502540 0x502f3d 0x507641\n",
            "\u001b[?25hRequirement already satisfied, skipping upgrade: requests in /usr/local/lib/python3.6/dist-packages (from fastai) (2.18.4)\n",
            "Collecting dataclasses; python_version < \"3.7\" (from fastai)\n",
            "  Downloading https://files.pythonhosted.org/packages/26/2f/1095cdc2868052dd1e64520f7c0d5c8c550ad297e944e641dbf1ffbb9a5d/dataclasses-0.6-py3-none-any.whl\n",
            "Collecting typing (from fastai)\n",
            "  Downloading https://files.pythonhosted.org/packages/4a/bd/eee1157fc2d8514970b345d69cb9975dcd1e42cd7e61146ed841f6e68309/typing-3.6.6-py3-none-any.whl\n",
            "Collecting fastprogress>=0.1.18 (from fastai)\n",
            "  Downloading https://files.pythonhosted.org/packages/78/57/24a5e20f4a357f7f1c90dd5250071951c832b2480fd4fefd7be48edf4180/fastprogress-0.1.18-py3-none-any.whl\n",
            "Requirement already satisfied, skipping upgrade: matplotlib in /usr/local/lib/python3.6/dist-packages (from fastai) (2.1.2)\n",
            "Requirement already satisfied, skipping upgrade: packaging in /usr/local/lib/python3.6/dist-packages (from fastai) (18.0)\n",
            "Requirement already satisfied, skipping upgrade: pandas in /usr/local/lib/python3.6/dist-packages (from fastai) (0.22.0)\n",
            "Collecting nvidia-ml-py3 (from fastai)\n",
            "  Downloading https://files.pythonhosted.org/packages/6d/64/cce82bddb80c0b0f5c703bbdafa94bfb69a1c5ad7a79cff00b482468f0d3/nvidia-ml-py3-7.352.0.tar.gz\n",
            "Collecting bottleneck (from fastai)\n",
            "\u001b[?25l  Downloading https://files.pythonhosted.org/packages/05/ae/cedf5323f398ab4e4ff92d6c431a3e1c6a186f9b41ab3e8258dff786a290/Bottleneck-1.2.1.tar.gz (105kB)\n",
            "\u001b[K    100% |████████████████████████████████| 112kB 30.6MB/s \n",
            "\u001b[?25hRequirement already satisfied, skipping upgrade: Pillow in /usr/local/lib/python3.6/dist-packages (from fastai) (4.0.0)\n",
            "Requirement already satisfied, skipping upgrade: spacy>=2.0.18 in /usr/local/lib/python3.6/dist-packages (from fastai) (2.0.18)\n",
            "Requirement already satisfied, skipping upgrade: pyyaml in /usr/local/lib/python3.6/dist-packages (from fastai) (3.13)\n",
            "Requirement already satisfied, skipping upgrade: six in /usr/local/lib/python3.6/dist-packages (from torchvision->fastai) (1.11.0)\n",
            "Requirement already satisfied, skipping upgrade: certifi>=2017.4.17 in /usr/local/lib/python3.6/dist-packages (from requests->fastai) (2018.11.29)\n",
            "Requirement already satisfied, skipping upgrade: idna<2.7,>=2.5 in /usr/local/lib/python3.6/dist-packages (from requests->fastai) (2.6)\n",
            "Requirement already satisfied, skipping upgrade: urllib3<1.23,>=1.21.1 in /usr/local/lib/python3.6/dist-packages (from requests->fastai) (1.22)\n",
            "Requirement already satisfied, skipping upgrade: chardet<3.1.0,>=3.0.2 in /usr/local/lib/python3.6/dist-packages (from requests->fastai) (3.0.4)\n",
            "Requirement already satisfied, skipping upgrade: pytz in /usr/local/lib/python3.6/dist-packages (from matplotlib->fastai) (2018.9)\n",
            "Requirement already satisfied, skipping upgrade: python-dateutil>=2.1 in /usr/local/lib/python3.6/dist-packages (from matplotlib->fastai) (2.5.3)\n",
            "Requirement already satisfied, skipping upgrade: pyparsing!=2.0.4,!=2.1.2,!=2.1.6,>=2.0.1 in /usr/local/lib/python3.6/dist-packages (from matplotlib->fastai) (2.3.0)\n",
            "Requirement already satisfied, skipping upgrade: cycler>=0.10 in /usr/local/lib/python3.6/dist-packages (from matplotlib->fastai) (0.10.0)\n",
            "Requirement already satisfied, skipping upgrade: olefile in /usr/local/lib/python3.6/dist-packages (from Pillow->fastai) (0.46)\n",
            "Requirement already satisfied, skipping upgrade: preshed<2.1.0,>=2.0.1 in /usr/local/lib/python3.6/dist-packages (from spacy>=2.0.18->fastai) (2.0.1)\n",
            "Requirement already satisfied, skipping upgrade: plac<1.0.0,>=0.9.6 in /usr/local/lib/python3.6/dist-packages (from spacy>=2.0.18->fastai) (0.9.6)\n",
            "Requirement already satisfied, skipping upgrade: thinc<6.13.0,>=6.12.1 in /usr/local/lib/python3.6/dist-packages (from spacy>=2.0.18->fastai) (6.12.1)\n",
            "Requirement already satisfied, skipping upgrade: ujson>=1.35 in /usr/local/lib/python3.6/dist-packages (from spacy>=2.0.18->fastai) (1.35)\n",
            "Requirement already satisfied, skipping upgrade: murmurhash<1.1.0,>=0.28.0 in /usr/local/lib/python3.6/dist-packages (from spacy>=2.0.18->fastai) (1.0.1)\n",
            "Requirement already satisfied, skipping upgrade: dill<0.3,>=0.2 in /usr/local/lib/python3.6/dist-packages (from spacy>=2.0.18->fastai) (0.2.8.2)\n",
            "Requirement already satisfied, skipping upgrade: regex==2018.01.10 in /usr/local/lib/python3.6/dist-packages (from spacy>=2.0.18->fastai) (2018.1.10)\n",
            "Requirement already satisfied, skipping upgrade: cymem<2.1.0,>=2.0.2 in /usr/local/lib/python3.6/dist-packages (from spacy>=2.0.18->fastai) (2.0.2)\n",
            "Requirement already satisfied, skipping upgrade: tqdm<5.0.0,>=4.10.0 in /usr/local/lib/python3.6/dist-packages (from thinc<6.13.0,>=6.12.1->spacy>=2.0.18->fastai) (4.28.1)\n",
            "Requirement already satisfied, skipping upgrade: wrapt<1.11.0,>=1.10.0 in /usr/local/lib/python3.6/dist-packages (from thinc<6.13.0,>=6.12.1->spacy>=2.0.18->fastai) (1.10.11)\n",
            "Requirement already satisfied, skipping upgrade: cytoolz<0.10,>=0.9.0 in /usr/local/lib/python3.6/dist-packages (from thinc<6.13.0,>=6.12.1->spacy>=2.0.18->fastai) (0.9.0.1)\n",
            "Requirement already satisfied, skipping upgrade: msgpack-numpy<0.4.4 in /usr/local/lib/python3.6/dist-packages (from thinc<6.13.0,>=6.12.1->spacy>=2.0.18->fastai) (0.4.3.2)\n",
            "Requirement already satisfied, skipping upgrade: msgpack<0.6.0,>=0.5.6 in /usr/local/lib/python3.6/dist-packages (from thinc<6.13.0,>=6.12.1->spacy>=2.0.18->fastai) (0.5.6)\n",
            "Requirement already satisfied, skipping upgrade: toolz>=0.8.0 in /usr/local/lib/python3.6/dist-packages (from cytoolz<0.10,>=0.9.0->thinc<6.13.0,>=6.12.1->spacy>=2.0.18->fastai) (0.9.0)\n",
            "Building wheels for collected packages: nvidia-ml-py3, bottleneck\n",
            "  Running setup.py bdist_wheel for nvidia-ml-py3 ... \u001b[?25l-\b \bdone\n",
            "\u001b[?25h  Stored in directory: /root/.cache/pip/wheels/e4/1d/06/640c93f5270d67d0247f30be91f232700d19023f9e66d735c7\n",
            "  Running setup.py bdist_wheel for bottleneck ... \u001b[?25l-\b \b\\\b \b|\b \b/\b \b-\b \b\\\b \b|\b \b/\b \b-\b \bdone\n",
            "\u001b[?25h  Stored in directory: /root/.cache/pip/wheels/f2/bf/ec/e0f39aa27001525ad455139ee57ec7d0776fe074dfd78c97e4\n",
            "Successfully built nvidia-ml-py3 bottleneck\n",
            "\u001b[31mtorchvision 0.2.1 has requirement pillow>=4.1.1, but you'll have pillow 4.0.0 which is incompatible.\u001b[0m\n",
            "Installing collected packages: torch, torchvision, dataclasses, typing, fastprogress, nvidia-ml-py3, bottleneck, fastai\n",
            "Successfully installed bottleneck-1.2.1 dataclasses-0.6 fastai-1.0.39 fastprogress-0.1.18 nvidia-ml-py3-7.352.0 torch-1.0.0 torchvision-0.2.1 typing-3.6.6\n",
            "Requirement already satisfied: kaggle in /usr/local/lib/python3.6/dist-packages (1.5.1.1)\n",
            "Requirement already satisfied: urllib3<1.23.0,>=1.15 in /usr/local/lib/python3.6/dist-packages (from kaggle) (1.22)\n",
            "Requirement already satisfied: six>=1.10 in /usr/local/lib/python3.6/dist-packages (from kaggle) (1.11.0)\n",
            "Requirement already satisfied: certifi in /usr/local/lib/python3.6/dist-packages (from kaggle) (2018.11.29)\n",
            "Requirement already satisfied: python-dateutil in /usr/local/lib/python3.6/dist-packages (from kaggle) (2.5.3)\n",
            "Requirement already satisfied: requests in /usr/local/lib/python3.6/dist-packages (from kaggle) (2.18.4)\n",
            "Requirement already satisfied: tqdm in /usr/local/lib/python3.6/dist-packages (from kaggle) (4.28.1)\n",
            "Requirement already satisfied: python-slugify in /usr/local/lib/python3.6/dist-packages (from kaggle) (2.0.1)\n",
            "Requirement already satisfied: idna<2.7,>=2.5 in /usr/local/lib/python3.6/dist-packages (from requests->kaggle) (2.6)\n",
            "Requirement already satisfied: chardet<3.1.0,>=3.0.2 in /usr/local/lib/python3.6/dist-packages (from requests->kaggle) (3.0.4)\n",
            "Requirement already satisfied: Unidecode>=0.04.16 in /usr/local/lib/python3.6/dist-packages (from python-slugify->kaggle) (1.0.23)\n"
          ],
          "name": "stdout"
        }
      ]
    },
    {
      "metadata": {
        "id": "fXp1oEOF8v3m",
        "colab_type": "code",
        "outputId": "85c756bc-5a0f-4f43-8013-51638aa25f45",
        "colab": {
          "base_uri": "https://localhost:8080/",
          "height": 173
        }
      },
      "cell_type": "code",
      "source": [
        "!pip install --upgrade pillow"
      ],
      "execution_count": 0,
      "outputs": [
        {
          "output_type": "stream",
          "text": [
            "Collecting pillow\n",
            "  Using cached https://files.pythonhosted.org/packages/92/e3/217dfd0834a51418c602c96b110059c477260c7fee898542b100913947cf/Pillow-5.4.0-cp36-cp36m-manylinux1_x86_64.whl\n",
            "Installing collected packages: pillow\n",
            "  Found existing installation: Pillow 4.1.1\n",
            "    Uninstalling Pillow-4.1.1:\n",
            "      Successfully uninstalled Pillow-4.1.1\n",
            "Successfully installed pillow-5.4.0\n"
          ],
          "name": "stdout"
        }
      ]
    },
    {
      "metadata": {
        "id": "8taCHuLpwcSP",
        "colab_type": "text"
      },
      "cell_type": "markdown",
      "source": [
        "# DL model in GPU"
      ]
    },
    {
      "metadata": {
        "id": "xhOiEcW4cQ8-",
        "colab_type": "code",
        "colab": {}
      },
      "cell_type": "code",
      "source": [
        "from fastai import *          # Quick accesss to most common functionality\n",
        "from fastai.tabular import *  # Quick accesss to tabular functionality"
      ],
      "execution_count": 0,
      "outputs": []
    },
    {
      "metadata": {
        "id": "YJ7t4V4vcT3g",
        "colab_type": "code",
        "colab": {}
      },
      "cell_type": "code",
      "source": [
        "california_housing_dataframe = pd.read_csv(\"https://download.mlcc.google.com/mledu-datasets/california_housing_train.csv\", sep=\",\")"
      ],
      "execution_count": 0,
      "outputs": []
    },
    {
      "metadata": {
        "id": "LDVvOp9fmr3n",
        "colab_type": "code",
        "outputId": "fa7c009b-26fe-468b-adee-3b29eff18ff2",
        "colab": {
          "base_uri": "https://localhost:8080/",
          "height": 379
        }
      },
      "cell_type": "code",
      "source": [
        "california_housing_dataframe.plot.scatter(x='latitude', y='median_house_value')"
      ],
      "execution_count": 4,
      "outputs": [
        {
          "output_type": "execute_result",
          "data": {
            "text/plain": [
              "<matplotlib.axes._subplots.AxesSubplot at 0x7f31c588eef0>"
            ]
          },
          "metadata": {
            "tags": []
          },
          "execution_count": 4
        },
        {
          "output_type": "display_data",
          "data": {
            "image/png": "[encoded data removed]",
            "text/plain": [
              "<matplotlib.figure.Figure at 0x7f325adac278>"
            ]
          },
          "metadata": {
            "tags": []
          }
        }
      ]
    },
    {
      "metadata": {
        "id": "EXHzDWgndyvw",
        "colab_type": "code",
        "colab": {}
      },
      "cell_type": "code",
      "source": [
        "dep_var = 'median_house_value'\n",
        "cat_names = []\n",
        "cont_names = ['latitude','longitude', 'housing_median_age', 'total_rooms',\n",
        "       'total_bedrooms', 'population', 'households', 'median_income']\n"
      ],
      "execution_count": 0,
      "outputs": []
    },
    {
      "metadata": {
        "id": "3_Y9Mu3jd5Kg",
        "colab_type": "code",
        "colab": {}
      },
      "cell_type": "code",
      "source": [
        "procs = [FillMissing, Normalize]"
      ],
      "execution_count": 0,
      "outputs": []
    },
    {
      "metadata": {
        "id": "zT4UzornfK7X",
        "colab_type": "code",
        "outputId": "2fa0288c-3942-41d8-89d9-d225a03024cf",
        "colab": {
          "base_uri": "https://localhost:8080/",
          "height": 35
        }
      },
      "cell_type": "code",
      "source": [
        "#random split of train/valid dataframe\n",
        "np.random.seed(9001)\n",
        "idx = np.random.permutation(range(17000))[:2000]\n",
        "idx.sort()\n",
        "idx"
      ],
      "execution_count": 7,
      "outputs": [
        {
          "output_type": "execute_result",
          "data": {
            "text/plain": [
              "array([    1,     5,    13,    18, ..., 16964, 16972, 16980, 16981])"
            ]
          },
          "metadata": {
            "tags": []
          },
          "execution_count": 7
        }
      ]
    },
    {
      "metadata": {
        "id": "b8BC64IDd7aw",
        "colab_type": "code",
        "colab": {}
      },
      "cell_type": "code",
      "source": [
        "data = (TabularList.from_df(california_housing_dataframe, cat_names=cat_names, cont_names=cont_names, procs=procs)\n",
        "                           .split_by_idx(idx)\n",
        "                           .label_from_df(cols=dep_var, label_cls=FloatList, log=True)\n",
        "                           .databunch())"
      ],
      "execution_count": 0,
      "outputs": []
    },
    {
      "metadata": {
        "id": "bzFFxH3jhWsG",
        "colab_type": "code",
        "colab": {}
      },
      "cell_type": "code",
      "source": [
        "max_log_y = np.log(np.max(california_housing_dataframe[dep_var])*1.2)\n",
        "y_range = torch.tensor([0, max_log_y], device=defaults.device)"
      ],
      "execution_count": 0,
      "outputs": []
    },
    {
      "metadata": {
        "id": "gMiyXG95d9yQ",
        "colab_type": "code",
        "colab": {}
      },
      "cell_type": "code",
      "source": [
        "learn = tabular_learner(data, layers=[1000,500], emb_szs={}, \n",
        "                        y_range=y_range, metrics=exp_rmspe)"
      ],
      "execution_count": 0,
      "outputs": []
    },
    {
      "metadata": {
        "id": "AFHo3WFtd_Jx",
        "colab_type": "code",
        "outputId": "6438e11d-1758-424a-c34a-4188ebd13a7d",
        "colab": {
          "base_uri": "https://localhost:8080/",
          "height": 260
        }
      },
      "cell_type": "code",
      "source": [
        "learn.model"
      ],
      "execution_count": 11,
      "outputs": [
        {
          "output_type": "execute_result",
          "data": {
            "text/plain": [
              "TabularModel(\n",
              "  (embeds): ModuleList()\n",
              "  (emb_drop): Dropout(p=0.0)\n",
              "  (bn_cont): BatchNorm1d(8, eps=1e-05, momentum=0.1, affine=True, track_running_stats=True)\n",
              "  (layers): Sequential(\n",
              "    (0): Linear(in_features=8, out_features=1000, bias=True)\n",
              "    (1): ReLU(inplace)\n",
              "    (2): BatchNorm1d(1000, eps=1e-05, momentum=0.1, affine=True, track_running_stats=True)\n",
              "    (3): Linear(in_features=1000, out_features=500, bias=True)\n",
              "    (4): ReLU(inplace)\n",
              "    (5): BatchNorm1d(500, eps=1e-05, momentum=0.1, affine=True, track_running_stats=True)\n",
              "    (6): Linear(in_features=500, out_features=1, bias=True)\n",
              "  )\n",
              ")"
            ]
          },
          "metadata": {
            "tags": []
          },
          "execution_count": 11
        }
      ]
    },
    {
      "metadata": {
        "id": "vqMzNzxOgYOS",
        "colab_type": "code",
        "outputId": "b4d092ed-757d-435c-c537-b8525fbce8f5",
        "colab": {
          "base_uri": "https://localhost:8080/",
          "height": 280
        }
      },
      "cell_type": "code",
      "source": [
        "learn.fit_one_cycle(10, 1e-3)"
      ],
      "execution_count": 12,
      "outputs": [
        {
          "output_type": "display_data",
          "data": {
            "text/html": [
              "Total time: 00:28 <p><table style='width:300px; margin-bottom:10px'>\n",
              "  <tr>\n",
              "    <th>epoch</th>\n",
              "    <th>train_loss</th>\n",
              "    <th>valid_loss</th>\n",
              "    <th>exp_rmspe</th>\n",
              "  </tr>\n",
              "  <tr>\n",
              "    <th>1</th>\n",
              "    <th>17.975451</th>\n",
              "    <th>10.698076</th>\n",
              "    <th>0.951343</th>\n",
              "  </tr>\n",
              "  <tr>\n",
              "    <th>2</th>\n",
              "    <th>0.456851</th>\n",
              "    <th>0.253782</th>\n",
              "    <th>0.401620</th>\n",
              "  </tr>\n",
              "  <tr>\n",
              "    <th>3</th>\n",
              "    <th>0.150509</th>\n",
              "    <th>0.143967</th>\n",
              "    <th>0.416078</th>\n",
              "  </tr>\n",
              "  <tr>\n",
              "    <th>4</th>\n",
              "    <th>0.121176</th>\n",
              "    <th>0.103326</th>\n",
              "    <th>0.361429</th>\n",
              "  </tr>\n",
              "  <tr>\n",
              "    <th>5</th>\n",
              "    <th>0.107310</th>\n",
              "    <th>0.093275</th>\n",
              "    <th>0.350617</th>\n",
              "  </tr>\n",
              "  <tr>\n",
              "    <th>6</th>\n",
              "    <th>0.096524</th>\n",
              "    <th>0.085896</th>\n",
              "    <th>0.303081</th>\n",
              "  </tr>\n",
              "  <tr>\n",
              "    <th>7</th>\n",
              "    <th>0.087710</th>\n",
              "    <th>0.088562</th>\n",
              "    <th>0.325481</th>\n",
              "  </tr>\n",
              "  <tr>\n",
              "    <th>8</th>\n",
              "    <th>0.081871</th>\n",
              "    <th>0.118204</th>\n",
              "    <th>0.288817</th>\n",
              "  </tr>\n",
              "  <tr>\n",
              "    <th>9</th>\n",
              "    <th>0.077631</th>\n",
              "    <th>0.081407</th>\n",
              "    <th>0.282722</th>\n",
              "  </tr>\n",
              "  <tr>\n",
              "    <th>10</th>\n",
              "    <th>0.076612</th>\n",
              "    <th>0.104020</th>\n",
              "    <th>0.278376</th>\n",
              "  </tr>\n",
              "</table>\n"
            ],
            "text/plain": [
              "<IPython.core.display.HTML object>"
            ]
          },
          "metadata": {
            "tags": []
          }
        }
      ]
    },
    {
      "metadata": {
        "id": "yl9zc35zodqL",
        "colab_type": "code",
        "outputId": "fb7488f4-aff2-4121-b21b-3e9f028db2a6",
        "colab": {
          "base_uri": "https://localhost:8080/",
          "height": 361
        }
      },
      "cell_type": "code",
      "source": [
        "learn.recorder.plot_losses(last=-1)"
      ],
      "execution_count": 13,
      "outputs": [
        {
          "output_type": "display_data",
          "data": {
            "image/png": "[encoded data removed]",
            "text/plain": [
              "<matplotlib.figure.Figure at 0x7f31c2a7ee80>"
            ]
          },
          "metadata": {
            "tags": []
          }
        }
      ]
    },
    {
      "metadata": {
        "id": "FR-7hwdglkj6",
        "colab_type": "text"
      },
      "cell_type": "markdown",
      "source": [
        "# MNIST CNN"
      ]
    },
    {
      "metadata": {
        "id": "rdDUNGPtlmwY",
        "colab_type": "code",
        "colab": {}
      },
      "cell_type": "code",
      "source": [
        "%matplotlib inline\n",
        "from fastai import *\n",
        "from fastai.vision import *"
      ],
      "execution_count": 0,
      "outputs": []
    },
    {
      "metadata": {
        "id": "AZ7YvmdslnLY",
        "colab_type": "code",
        "colab": {}
      },
      "cell_type": "code",
      "source": [
        "path = untar_data(URLs.MNIST)"
      ],
      "execution_count": 0,
      "outputs": []
    },
    {
      "metadata": {
        "id": "UMWySyv_loSJ",
        "colab_type": "code",
        "outputId": "8d7018a3-604e-4733-aa56-173e5b66c18b",
        "colab": {
          "base_uri": "https://localhost:8080/",
          "height": 52
        }
      },
      "cell_type": "code",
      "source": [
        "path.ls()"
      ],
      "execution_count": 16,
      "outputs": [
        {
          "output_type": "execute_result",
          "data": {
            "text/plain": [
              "[PosixPath('/root/.fastai/data/mnist_png/testing'),\n",
              " PosixPath('/root/.fastai/data/mnist_png/training')]"
            ]
          },
          "metadata": {
            "tags": []
          },
          "execution_count": 16
        }
      ]
    },
    {
      "metadata": {
        "id": "Zses3VLTlpSp",
        "colab_type": "code",
        "colab": {}
      },
      "cell_type": "code",
      "source": [
        "il = ImageItemList.from_folder(path, convert_mode='L')"
      ],
      "execution_count": 0,
      "outputs": []
    },
    {
      "metadata": {
        "id": "2H8FazCDlqL6",
        "colab_type": "code",
        "outputId": "e250347c-28ec-4db3-f18b-4e2817c01959",
        "colab": {
          "base_uri": "https://localhost:8080/",
          "height": 35
        }
      },
      "cell_type": "code",
      "source": [
        "il.items[0]"
      ],
      "execution_count": 18,
      "outputs": [
        {
          "output_type": "execute_result",
          "data": {
            "text/plain": [
              "PosixPath('/root/.fastai/data/mnist_png/testing/7/9608.png')"
            ]
          },
          "metadata": {
            "tags": []
          },
          "execution_count": 18
        }
      ]
    },
    {
      "metadata": {
        "id": "ecuftTCzlrR4",
        "colab_type": "code",
        "colab": {}
      },
      "cell_type": "code",
      "source": [
        "defaults.cmap='binary'"
      ],
      "execution_count": 0,
      "outputs": []
    },
    {
      "metadata": {
        "id": "GbPHOVTElsO5",
        "colab_type": "code",
        "outputId": "72be9855-e3e3-40cc-c0d0-f5bf8dcdc6b1",
        "colab": {
          "base_uri": "https://localhost:8080/",
          "height": 69
        }
      },
      "cell_type": "code",
      "source": [
        "il"
      ],
      "execution_count": 20,
      "outputs": [
        {
          "output_type": "execute_result",
          "data": {
            "text/plain": [
              "ImageItemList (70000 items)\n",
              "[Image (1, 28, 28), Image (1, 28, 28), Image (1, 28, 28), Image (1, 28, 28), Image (1, 28, 28)]...\n",
              "Path: /root/.fastai/data/mnist_png"
            ]
          },
          "metadata": {
            "tags": []
          },
          "execution_count": 20
        }
      ]
    },
    {
      "metadata": {
        "id": "GS9jMK8Eltep",
        "colab_type": "code",
        "outputId": "f5bb2bb4-5d52-449c-bf44-511e8d43b3d9",
        "colab": {
          "base_uri": "https://localhost:8080/",
          "height": 213
        }
      },
      "cell_type": "code",
      "source": [
        "il[0].show()"
      ],
      "execution_count": 21,
      "outputs": [
        {
          "output_type": "display_data",
          "data": {
            "image/png": "[encoded data removed]",
            "text/plain": [
              "<matplotlib.figure.Figure at 0x7f31c070c358>"
            ]
          },
          "metadata": {
            "tags": []
          }
        }
      ]
    },
    {
      "metadata": {
        "id": "kkjyjBgclvD4",
        "colab_type": "code",
        "colab": {}
      },
      "cell_type": "code",
      "source": [
        "sd = il.split_by_folder(train='training', valid='testing')"
      ],
      "execution_count": 0,
      "outputs": []
    },
    {
      "metadata": {
        "id": "Ku8FkN-Hlw7X",
        "colab_type": "code",
        "outputId": "a55f71d0-5ff0-4f33-bab7-ab9b6f5a6296",
        "colab": {
          "base_uri": "https://localhost:8080/",
          "height": 208
        }
      },
      "cell_type": "code",
      "source": [
        "sd"
      ],
      "execution_count": 23,
      "outputs": [
        {
          "output_type": "execute_result",
          "data": {
            "text/plain": [
              "ItemLists;\n",
              "\n",
              "Train: ImageItemList (60000 items)\n",
              "[Image (1, 28, 28), Image (1, 28, 28), Image (1, 28, 28), Image (1, 28, 28), Image (1, 28, 28)]...\n",
              "Path: /root/.fastai/data/mnist_png;\n",
              "\n",
              "Valid: ImageItemList (10000 items)\n",
              "[Image (1, 28, 28), Image (1, 28, 28), Image (1, 28, 28), Image (1, 28, 28), Image (1, 28, 28)]...\n",
              "Path: /root/.fastai/data/mnist_png;\n",
              "\n",
              "Test: None"
            ]
          },
          "metadata": {
            "tags": []
          },
          "execution_count": 23
        }
      ]
    },
    {
      "metadata": {
        "id": "cmilSL8FlyGZ",
        "colab_type": "code",
        "outputId": "60f1fbf2-4247-42cc-a912-9c05b39a3940",
        "colab": {
          "base_uri": "https://localhost:8080/",
          "height": 191
        }
      },
      "cell_type": "code",
      "source": [
        "(path/'training').ls()"
      ],
      "execution_count": 24,
      "outputs": [
        {
          "output_type": "execute_result",
          "data": {
            "text/plain": [
              "[PosixPath('/root/.fastai/data/mnist_png/training/7'),\n",
              " PosixPath('/root/.fastai/data/mnist_png/training/9'),\n",
              " PosixPath('/root/.fastai/data/mnist_png/training/0'),\n",
              " PosixPath('/root/.fastai/data/mnist_png/training/4'),\n",
              " PosixPath('/root/.fastai/data/mnist_png/training/6'),\n",
              " PosixPath('/root/.fastai/data/mnist_png/training/5'),\n",
              " PosixPath('/root/.fastai/data/mnist_png/training/1'),\n",
              " PosixPath('/root/.fastai/data/mnist_png/training/2'),\n",
              " PosixPath('/root/.fastai/data/mnist_png/training/8'),\n",
              " PosixPath('/root/.fastai/data/mnist_png/training/3')]"
            ]
          },
          "metadata": {
            "tags": []
          },
          "execution_count": 24
        }
      ]
    },
    {
      "metadata": {
        "id": "-BKtfjNQlzi6",
        "colab_type": "code",
        "colab": {}
      },
      "cell_type": "code",
      "source": [
        "ll = sd.label_from_folder()"
      ],
      "execution_count": 0,
      "outputs": []
    },
    {
      "metadata": {
        "id": "Ogeu8YMzl1lo",
        "colab_type": "code",
        "outputId": "41690868-ddc2-4243-af51-b5c9450542d6",
        "colab": {
          "base_uri": "https://localhost:8080/",
          "height": 347
        }
      },
      "cell_type": "code",
      "source": [
        "ll"
      ],
      "execution_count": 26,
      "outputs": [
        {
          "output_type": "execute_result",
          "data": {
            "text/plain": [
              "LabelLists;\n",
              "\n",
              "Train: LabelList\n",
              "y: CategoryList (60000 items)\n",
              "[Category 7, Category 7, Category 7, Category 7, Category 7]...\n",
              "Path: /root/.fastai/data/mnist_png\n",
              "x: ImageItemList (60000 items)\n",
              "[Image (1, 28, 28), Image (1, 28, 28), Image (1, 28, 28), Image (1, 28, 28), Image (1, 28, 28)]...\n",
              "Path: /root/.fastai/data/mnist_png;\n",
              "\n",
              "Valid: LabelList\n",
              "y: CategoryList (10000 items)\n",
              "[Category 7, Category 7, Category 7, Category 7, Category 7]...\n",
              "Path: /root/.fastai/data/mnist_png\n",
              "x: ImageItemList (10000 items)\n",
              "[Image (1, 28, 28), Image (1, 28, 28), Image (1, 28, 28), Image (1, 28, 28), Image (1, 28, 28)]...\n",
              "Path: /root/.fastai/data/mnist_png;\n",
              "\n",
              "Test: None"
            ]
          },
          "metadata": {
            "tags": []
          },
          "execution_count": 26
        }
      ]
    },
    {
      "metadata": {
        "id": "hqw2t1J5l2w5",
        "colab_type": "code",
        "colab": {}
      },
      "cell_type": "code",
      "source": [
        "x,y = ll.train[0]"
      ],
      "execution_count": 0,
      "outputs": []
    },
    {
      "metadata": {
        "id": "MtJjm5v2l4iI",
        "colab_type": "code",
        "outputId": "b3563341-a54b-4f25-8add-4a3650c0447e",
        "colab": {
          "base_uri": "https://localhost:8080/",
          "height": 230
        }
      },
      "cell_type": "code",
      "source": [
        "x.show()\n",
        "print(y,x.shape)"
      ],
      "execution_count": 28,
      "outputs": [
        {
          "output_type": "stream",
          "text": [
            "7 torch.Size([1, 28, 28])\n"
          ],
          "name": "stdout"
        },
        {
          "output_type": "display_data",
          "data": {
            "image/png": "[encoded data removed]",
            "text/plain": [
              "<matplotlib.figure.Figure at 0x7f31ae219d30>"
            ]
          },
          "metadata": {
            "tags": []
          }
        }
      ]
    },
    {
      "metadata": {
        "id": "TzAT4Xeml5U6",
        "colab_type": "code",
        "colab": {}
      },
      "cell_type": "code",
      "source": [
        "tfms = ([*rand_pad(padding=3, size=28, mode='zeros')], [])"
      ],
      "execution_count": 0,
      "outputs": []
    },
    {
      "metadata": {
        "id": "uTCQUQYTl7CJ",
        "colab_type": "code",
        "colab": {}
      },
      "cell_type": "code",
      "source": [
        "ll = ll.transform(tfms)"
      ],
      "execution_count": 0,
      "outputs": []
    },
    {
      "metadata": {
        "id": "thABlYayl785",
        "colab_type": "code",
        "colab": {}
      },
      "cell_type": "code",
      "source": [
        "bs = 128"
      ],
      "execution_count": 0,
      "outputs": []
    },
    {
      "metadata": {
        "id": "_NGtCODSl84b",
        "colab_type": "code",
        "colab": {}
      },
      "cell_type": "code",
      "source": [
        "data = ll.databunch(bs=bs).normalize()"
      ],
      "execution_count": 0,
      "outputs": []
    },
    {
      "metadata": {
        "id": "6QjvtsTul-iZ",
        "colab_type": "code",
        "colab": {}
      },
      "cell_type": "code",
      "source": [
        "x,y = data.train_ds[0]"
      ],
      "execution_count": 0,
      "outputs": []
    },
    {
      "metadata": {
        "id": "k1-ws8-kl_b5",
        "colab_type": "code",
        "outputId": "66a0ab8b-e77d-4472-d99a-b47dee1a672e",
        "colab": {
          "base_uri": "https://localhost:8080/",
          "height": 230
        }
      },
      "cell_type": "code",
      "source": [
        "x.show()\n",
        "print(y)"
      ],
      "execution_count": 34,
      "outputs": [
        {
          "output_type": "stream",
          "text": [
            "7\n"
          ],
          "name": "stdout"
        },
        {
          "output_type": "display_data",
          "data": {
            "image/png": "[encoded data removed]",
            "text/plain": [
              "<matplotlib.figure.Figure at 0x7f31adfe3240>"
            ]
          },
          "metadata": {
            "tags": []
          }
        }
      ]
    },
    {
      "metadata": {
        "id": "c2AO-dkpmArq",
        "colab_type": "code",
        "outputId": "24c9f4da-e88f-4bf9-886d-797d2df2f43e",
        "colab": {
          "base_uri": "https://localhost:8080/",
          "height": 485
        }
      },
      "cell_type": "code",
      "source": [
        "def _plot(i,j,ax): data.train_ds[0][0].show(ax, cmap='gray')\n",
        "plot_multi(_plot, 3, 3, figsize=(8,8))"
      ],
      "execution_count": 35,
      "outputs": [
        {
          "output_type": "display_data",
          "data": {
            "image/png": "[encoded data removed]",
            "text/plain": [
              "<matplotlib.figure.Figure at 0x7f31ae2256d8>"
            ]
          },
          "metadata": {
            "tags": []
          }
        }
      ]
    },
    {
      "metadata": {
        "id": "FUNLUh_DmEnq",
        "colab_type": "code",
        "outputId": "1047e4c3-c0c9-470d-b9d4-4feedf5e4382",
        "colab": {
          "base_uri": "https://localhost:8080/",
          "height": 35
        }
      },
      "cell_type": "code",
      "source": [
        "xb,yb = data.one_batch()\n",
        "xb.shape,yb.shape"
      ],
      "execution_count": 36,
      "outputs": [
        {
          "output_type": "execute_result",
          "data": {
            "text/plain": [
              "(torch.Size([128, 1, 28, 28]), torch.Size([128]))"
            ]
          },
          "metadata": {
            "tags": []
          },
          "execution_count": 36
        }
      ]
    },
    {
      "metadata": {
        "id": "EYslICMHmHR5",
        "colab_type": "code",
        "outputId": "4828e31b-6c26-408c-b937-4fe99d17b906",
        "colab": {
          "base_uri": "https://localhost:8080/",
          "height": 369
        }
      },
      "cell_type": "code",
      "source": [
        "data.show_batch(rows=3, figsize=(5,5))"
      ],
      "execution_count": 37,
      "outputs": [
        {
          "output_type": "display_data",
          "data": {
            "image/png": "[encoded data removed]",
            "text/plain": [
              "<matplotlib.figure.Figure at 0x7f31ad7fbdd8>"
            ]
          },
          "metadata": {
            "tags": []
          }
        }
      ]
    },
    {
      "metadata": {
        "id": "xmZRKK7XnVYp",
        "colab_type": "text"
      },
      "cell_type": "markdown",
      "source": [
        "## Basic CNN"
      ]
    },
    {
      "metadata": {
        "id": "gdPH-TI1nUL8",
        "colab_type": "code",
        "colab": {}
      },
      "cell_type": "code",
      "source": [
        "def conv(ni,nf): return nn.Conv2d(ni, nf, kernel_size=3, stride=2, padding=1)"
      ],
      "execution_count": 0,
      "outputs": []
    },
    {
      "metadata": {
        "id": "Cp-LSZM0mINr",
        "colab_type": "code",
        "colab": {}
      },
      "cell_type": "code",
      "source": [
        "model = nn.Sequential(\n",
        "    conv(1, 8), # 14\n",
        "    nn.BatchNorm2d(8),\n",
        "    nn.ReLU(),\n",
        "    conv(8, 16), # 7\n",
        "    nn.BatchNorm2d(16),\n",
        "    nn.ReLU(),\n",
        "    conv(16, 32), # 4\n",
        "    nn.BatchNorm2d(32),\n",
        "    nn.ReLU(),\n",
        "    conv(32, 16), # 2\n",
        "    nn.BatchNorm2d(16),\n",
        "    nn.ReLU(),\n",
        "    conv(16, 10), # 1\n",
        "    nn.BatchNorm2d(10),\n",
        "    Flatten()     # remove (1,1) grid\n",
        ")"
      ],
      "execution_count": 0,
      "outputs": []
    },
    {
      "metadata": {
        "id": "uMSBmKJsnaEM",
        "colab_type": "code",
        "colab": {}
      },
      "cell_type": "code",
      "source": [
        "learn = Learner(data, model, loss_func = nn.CrossEntropyLoss(), metrics=accuracy)"
      ],
      "execution_count": 0,
      "outputs": []
    },
    {
      "metadata": {
        "id": "-Zek4BQknbYM",
        "colab_type": "code",
        "outputId": "60c32c00-0a6a-477a-b0e3-c09c22b57646",
        "colab": {
          "base_uri": "https://localhost:8080/",
          "height": 676
        }
      },
      "cell_type": "code",
      "source": [
        "print(learn.summary())"
      ],
      "execution_count": 43,
      "outputs": [
        {
          "output_type": "stream",
          "text": [
            "======================================================================\n",
            "Layer (type)         Output Shape         Param #    Trainable \n",
            "======================================================================\n",
            "Conv2d               [128, 8, 14, 14]     80         True      \n",
            "______________________________________________________________________\n",
            "BatchNorm2d          [128, 8, 14, 14]     16         True      \n",
            "______________________________________________________________________\n",
            "ReLU                 [128, 8, 14, 14]     0          False     \n",
            "______________________________________________________________________\n",
            "Conv2d               [128, 16, 7, 7]      1168       True      \n",
            "______________________________________________________________________\n",
            "BatchNorm2d          [128, 16, 7, 7]      32         True      \n",
            "______________________________________________________________________\n",
            "ReLU                 [128, 16, 7, 7]      0          False     \n",
            "______________________________________________________________________\n",
            "Conv2d               [128, 32, 4, 4]      4640       True      \n",
            "______________________________________________________________________\n",
            "BatchNorm2d          [128, 32, 4, 4]      64         True      \n",
            "______________________________________________________________________\n",
            "ReLU                 [128, 32, 4, 4]      0          False     \n",
            "______________________________________________________________________\n",
            "Conv2d               [128, 16, 2, 2]      4624       True      \n",
            "______________________________________________________________________\n",
            "BatchNorm2d          [128, 16, 2, 2]      32         True      \n",
            "______________________________________________________________________\n",
            "ReLU                 [128, 16, 2, 2]      0          False     \n",
            "______________________________________________________________________\n",
            "Conv2d               [128, 10, 1, 1]      1450       True      \n",
            "______________________________________________________________________\n",
            "BatchNorm2d          [128, 10, 1, 1]      20         True      \n",
            "______________________________________________________________________\n",
            "Lambda               [128, 10]            0          False     \n",
            "______________________________________________________________________\n",
            "\n",
            "Total params: 12126\n",
            "Total trainable params: 12126\n",
            "Total non-trainable params: 0\n",
            "\n"
          ],
          "name": "stdout"
        }
      ]
    },
    {
      "metadata": {
        "id": "bEO21OgZncgb",
        "colab_type": "code",
        "colab": {}
      },
      "cell_type": "code",
      "source": [
        "xb = xb.cuda()"
      ],
      "execution_count": 0,
      "outputs": []
    },
    {
      "metadata": {
        "id": "9htbng6Yne5t",
        "colab_type": "code",
        "outputId": "af67ccd2-829d-4c9f-8318-1a19c1fca387",
        "colab": {
          "base_uri": "https://localhost:8080/",
          "height": 35
        }
      },
      "cell_type": "code",
      "source": [
        "model(xb).shape"
      ],
      "execution_count": 45,
      "outputs": [
        {
          "output_type": "execute_result",
          "data": {
            "text/plain": [
              "torch.Size([128, 10])"
            ]
          },
          "metadata": {
            "tags": []
          },
          "execution_count": 45
        }
      ]
    },
    {
      "metadata": {
        "id": "G__NpoYCngZb",
        "colab_type": "code",
        "outputId": "d58637b8-521e-4bde-ee51-001f307474ff",
        "colab": {
          "base_uri": "https://localhost:8080/",
          "height": 107
        }
      },
      "cell_type": "code",
      "source": [
        "learn.lr_find(end_lr=100)"
      ],
      "execution_count": 46,
      "outputs": [
        {
          "output_type": "display_data",
          "data": {
            "text/html": [
              "\n",
              "    <div>\n",
              "        <style>\n",
              "            /* Turns off some styling */\n",
              "            progress {\n",
              "                /* gets rid of default border in Firefox and Opera. */\n",
              "                border: none;\n",
              "                /* Needs to be in here for Safari polyfill so background images work as expected. */\n",
              "                background-size: auto;\n",
              "            }\n",
              "            .progress-bar-interrupted, .progress-bar-interrupted::-webkit-progress-bar {\n",
              "                background: #F44336;\n",
              "            }\n",
              "        </style>\n",
              "      <progress value='0' class='' max='1', style='width:300px; height:20px; vertical-align: middle;'></progress>\n",
              "      0.00% [0/1 00:00<00:00]\n",
              "    </div>\n",
              "    \n",
              "<table style='width:300px; margin-bottom:10px'>\n",
              "  <tr>\n",
              "    <th>epoch</th>\n",
              "    <th>train_loss</th>\n",
              "    <th>valid_loss</th>\n",
              "    <th>accuracy</th>\n",
              "  </tr>\n",
              "</table>\n",
              "\n",
              "\n",
              "    <div>\n",
              "        <style>\n",
              "            /* Turns off some styling */\n",
              "            progress {\n",
              "                /* gets rid of default border in Firefox and Opera. */\n",
              "                border: none;\n",
              "                /* Needs to be in here for Safari polyfill so background images work as expected. */\n",
              "                background-size: auto;\n",
              "            }\n",
              "            .progress-bar-interrupted, .progress-bar-interrupted::-webkit-progress-bar {\n",
              "                background: #F44336;\n",
              "            }\n",
              "        </style>\n",
              "      <progress value='0' class='progress-bar-interrupted' max='468', style='width:300px; height:20px; vertical-align: middle;'></progress>\n",
              "      Interrupted\n",
              "    </div>\n",
              "    "
            ],
            "text/plain": [
              "<IPython.core.display.HTML object>"
            ]
          },
          "metadata": {
            "tags": []
          }
        },
        {
          "output_type": "stream",
          "text": [
            "LR Finder is complete, type {learner_name}.recorder.plot() to see the graph.\n"
          ],
          "name": "stdout"
        }
      ]
    },
    {
      "metadata": {
        "id": "yve7H-VUnhmc",
        "colab_type": "code",
        "outputId": "e0b103c3-215b-4a13-e25f-d21458a87f13",
        "colab": {
          "base_uri": "https://localhost:8080/",
          "height": 283
        }
      },
      "cell_type": "code",
      "source": [
        "learn.recorder.plot()"
      ],
      "execution_count": 47,
      "outputs": [
        {
          "output_type": "display_data",
          "data": {
            "image/png": "[encoded data removed]",
            "text/plain": [
              "<matplotlib.figure.Figure at 0x7f31ad512eb8>"
            ]
          },
          "metadata": {
            "tags": []
          }
        }
      ]
    },
    {
      "metadata": {
        "id": "-faqilTfnjJs",
        "colab_type": "code",
        "outputId": "8eead6cd-e20d-40e7-b946-613e60148064",
        "colab": {
          "base_uri": "https://localhost:8080/",
          "height": 135
        }
      },
      "cell_type": "code",
      "source": [
        "learn.fit_one_cycle(3, max_lr=0.1)"
      ],
      "execution_count": 48,
      "outputs": [
        {
          "output_type": "display_data",
          "data": {
            "text/html": [
              "Total time: 01:42 <p><table style='width:300px; margin-bottom:10px'>\n",
              "  <tr>\n",
              "    <th>epoch</th>\n",
              "    <th>train_loss</th>\n",
              "    <th>valid_loss</th>\n",
              "    <th>accuracy</th>\n",
              "  </tr>\n",
              "  <tr>\n",
              "    <th>1</th>\n",
              "    <th>0.217689</th>\n",
              "    <th>0.154193</th>\n",
              "    <th>0.950800</th>\n",
              "  </tr>\n",
              "  <tr>\n",
              "    <th>2</th>\n",
              "    <th>0.141532</th>\n",
              "    <th>0.112126</th>\n",
              "    <th>0.963000</th>\n",
              "  </tr>\n",
              "  <tr>\n",
              "    <th>3</th>\n",
              "    <th>0.068445</th>\n",
              "    <th>0.039063</th>\n",
              "    <th>0.988200</th>\n",
              "  </tr>\n",
              "</table>\n"
            ],
            "text/plain": [
              "<IPython.core.display.HTML object>"
            ]
          },
          "metadata": {
            "tags": []
          }
        }
      ]
    },
    {
      "metadata": {
        "id": "Hbzbdu3yn7dp",
        "colab_type": "text"
      },
      "cell_type": "markdown",
      "source": [
        "## Refactor"
      ]
    },
    {
      "metadata": {
        "id": "ZaANyAx-nkPN",
        "colab_type": "code",
        "colab": {}
      },
      "cell_type": "code",
      "source": [
        "def conv2(ni,nf): return conv_layer(ni,nf,stride=2)"
      ],
      "execution_count": 0,
      "outputs": []
    },
    {
      "metadata": {
        "id": "UoE32vNmn8wf",
        "colab_type": "code",
        "colab": {}
      },
      "cell_type": "code",
      "source": [
        "model = nn.Sequential(\n",
        "    conv2(1, 8),   # 14\n",
        "    conv2(8, 16),  # 7\n",
        "    conv2(16, 32), # 4\n",
        "    conv2(32, 16), # 2\n",
        "    conv2(16, 10), # 1\n",
        "    Flatten()      # remove (1,1) grid\n",
        ")"
      ],
      "execution_count": 0,
      "outputs": []
    },
    {
      "metadata": {
        "id": "0cA7eK9Xn93h",
        "colab_type": "code",
        "colab": {}
      },
      "cell_type": "code",
      "source": [
        "learn = Learner(data, model, loss_func = nn.CrossEntropyLoss(), metrics=accuracy)"
      ],
      "execution_count": 0,
      "outputs": []
    },
    {
      "metadata": {
        "id": "J6oy-eWsn-7y",
        "colab_type": "code",
        "outputId": "244f49ae-fdb6-46c9-8b70-bd4684f52ed0",
        "colab": {
          "base_uri": "https://localhost:8080/",
          "height": 280
        }
      },
      "cell_type": "code",
      "source": [
        "learn.fit_one_cycle(10, max_lr=0.1)"
      ],
      "execution_count": 0,
      "outputs": [
        {
          "output_type": "display_data",
          "data": {
            "text/html": [
              "Total time: 06:22 <p><table style='width:300px; margin-bottom:10px'>\n",
              "  <tr>\n",
              "    <th>epoch</th>\n",
              "    <th>train_loss</th>\n",
              "    <th>valid_loss</th>\n",
              "    <th>accuracy</th>\n",
              "  </tr>\n",
              "  <tr>\n",
              "    <th>1</th>\n",
              "    <th>0.249092</th>\n",
              "    <th>0.145831</th>\n",
              "    <th>0.957600</th>\n",
              "  </tr>\n",
              "  <tr>\n",
              "    <th>2</th>\n",
              "    <th>0.196520</th>\n",
              "    <th>0.231148</th>\n",
              "    <th>0.926200</th>\n",
              "  </tr>\n",
              "  <tr>\n",
              "    <th>3</th>\n",
              "    <th>0.162156</th>\n",
              "    <th>0.121741</th>\n",
              "    <th>0.963100</th>\n",
              "  </tr>\n",
              "  <tr>\n",
              "    <th>4</th>\n",
              "    <th>0.137518</th>\n",
              "    <th>0.123255</th>\n",
              "    <th>0.958700</th>\n",
              "  </tr>\n",
              "  <tr>\n",
              "    <th>5</th>\n",
              "    <th>0.114836</th>\n",
              "    <th>0.191004</th>\n",
              "    <th>0.941800</th>\n",
              "  </tr>\n",
              "  <tr>\n",
              "    <th>6</th>\n",
              "    <th>0.105626</th>\n",
              "    <th>0.075536</th>\n",
              "    <th>0.975900</th>\n",
              "  </tr>\n",
              "  <tr>\n",
              "    <th>7</th>\n",
              "    <th>0.087983</th>\n",
              "    <th>0.045720</th>\n",
              "    <th>0.985500</th>\n",
              "  </tr>\n",
              "  <tr>\n",
              "    <th>8</th>\n",
              "    <th>0.068826</th>\n",
              "    <th>0.046301</th>\n",
              "    <th>0.986000</th>\n",
              "  </tr>\n",
              "  <tr>\n",
              "    <th>9</th>\n",
              "    <th>0.051475</th>\n",
              "    <th>0.030821</th>\n",
              "    <th>0.991100</th>\n",
              "  </tr>\n",
              "  <tr>\n",
              "    <th>10</th>\n",
              "    <th>0.050744</th>\n",
              "    <th>0.029381</th>\n",
              "    <th>0.991600</th>\n",
              "  </tr>\n",
              "</table>\n"
            ],
            "text/plain": [
              "<IPython.core.display.HTML object>"
            ]
          },
          "metadata": {
            "tags": []
          }
        }
      ]
    },
    {
      "metadata": {
        "id": "XmQ564NzoWJu",
        "colab_type": "text"
      },
      "cell_type": "markdown",
      "source": [
        "## Resnet-ish"
      ]
    },
    {
      "metadata": {
        "id": "-4prG5dAn_9P",
        "colab_type": "code",
        "colab": {}
      },
      "cell_type": "code",
      "source": [
        "class ResBlock(nn.Module):\n",
        "    def __init__(self, nf):\n",
        "        super().__init__()\n",
        "        self.conv1 = conv_layer(nf,nf)\n",
        "        self.conv2 = conv_layer(nf,nf)\n",
        "        \n",
        "    def forward(self, x): return x + self.conv2(self.conv1(x))"
      ],
      "execution_count": 0,
      "outputs": []
    },
    {
      "metadata": {
        "id": "IY4YF-lTobST",
        "colab_type": "code",
        "colab": {}
      },
      "cell_type": "code",
      "source": [
        "model = nn.Sequential(\n",
        "    conv2(1, 8),\n",
        "    res_block(8),\n",
        "    conv2(8, 16),\n",
        "    res_block(16),\n",
        "    conv2(16, 32),\n",
        "    res_block(32),\n",
        "    conv2(32, 16),\n",
        "    res_block(16),\n",
        "    conv2(16, 10),\n",
        "    Flatten()\n",
        ")"
      ],
      "execution_count": 0,
      "outputs": []
    },
    {
      "metadata": {
        "id": "BcNV70QIop-x",
        "colab_type": "code",
        "colab": {}
      },
      "cell_type": "code",
      "source": [
        "def conv_and_res(ni,nf): return nn.Sequential(conv2(ni, nf), res_block(nf))"
      ],
      "execution_count": 0,
      "outputs": []
    },
    {
      "metadata": {
        "id": "bASFeDciorME",
        "colab_type": "code",
        "colab": {}
      },
      "cell_type": "code",
      "source": [
        "model = nn.Sequential(\n",
        "    conv_and_res(1, 8),\n",
        "    conv_and_res(8, 16),\n",
        "    conv_and_res(16, 32),\n",
        "    conv_and_res(32, 16),\n",
        "    conv2(16, 10),\n",
        "    Flatten()\n",
        ")"
      ],
      "execution_count": 0,
      "outputs": []
    },
    {
      "metadata": {
        "id": "RKmTm66_osko",
        "colab_type": "code",
        "colab": {}
      },
      "cell_type": "code",
      "source": [
        "learn = Learner(data, model, loss_func = nn.CrossEntropyLoss(), metrics=accuracy)"
      ],
      "execution_count": 0,
      "outputs": []
    },
    {
      "metadata": {
        "id": "37SUuctyotzf",
        "colab_type": "code",
        "outputId": "57777e40-aaec-429f-8c64-05822c88ba58",
        "colab": {
          "base_uri": "https://localhost:8080/",
          "height": 369
        }
      },
      "cell_type": "code",
      "source": [
        "learn.lr_find(end_lr=100)\n",
        "learn.recorder.plot()"
      ],
      "execution_count": 0,
      "outputs": [
        {
          "output_type": "display_data",
          "data": {
            "text/html": [
              "\n",
              "    <div>\n",
              "        <style>\n",
              "            /* Turns off some styling */\n",
              "            progress {\n",
              "                /* gets rid of default border in Firefox and Opera. */\n",
              "                border: none;\n",
              "                /* Needs to be in here for Safari polyfill so background images work as expected. */\n",
              "                background-size: auto;\n",
              "            }\n",
              "            .progress-bar-interrupted, .progress-bar-interrupted::-webkit-progress-bar {\n",
              "                background: #F44336;\n",
              "            }\n",
              "        </style>\n",
              "      <progress value='0' class='' max='1', style='width:300px; height:20px; vertical-align: middle;'></progress>\n",
              "      0.00% [0/1 00:00<00:00]\n",
              "    </div>\n",
              "    \n",
              "<table style='width:300px; margin-bottom:10px'>\n",
              "  <tr>\n",
              "    <th>epoch</th>\n",
              "    <th>train_loss</th>\n",
              "    <th>valid_loss</th>\n",
              "    <th>accuracy</th>\n",
              "  </tr>\n",
              "</table>\n",
              "\n",
              "\n",
              "    <div>\n",
              "        <style>\n",
              "            /* Turns off some styling */\n",
              "            progress {\n",
              "                /* gets rid of default border in Firefox and Opera. */\n",
              "                border: none;\n",
              "                /* Needs to be in here for Safari polyfill so background images work as expected. */\n",
              "                background-size: auto;\n",
              "            }\n",
              "            .progress-bar-interrupted, .progress-bar-interrupted::-webkit-progress-bar {\n",
              "                background: #F44336;\n",
              "            }\n",
              "        </style>\n",
              "      <progress value='0' class='progress-bar-interrupted' max='468', style='width:300px; height:20px; vertical-align: middle;'></progress>\n",
              "      Interrupted\n",
              "    </div>\n",
              "    "
            ],
            "text/plain": [
              "<IPython.core.display.HTML object>"
            ]
          },
          "metadata": {
            "tags": []
          }
        },
        {
          "output_type": "stream",
          "text": [
            "LR Finder is complete, type {learner_name}.recorder.plot() to see the graph.\n"
          ],
          "name": "stdout"
        },
        {
          "output_type": "display_data",
          "data": {
            "image/png": "[encoded data removed]",
            "text/plain": [
              "<matplotlib.figure.Figure at 0x7faec91fedd8>"
            ]
          },
          "metadata": {
            "tags": []
          }
        }
      ]
    },
    {
      "metadata": {
        "id": "WBSPMI-lovVg",
        "colab_type": "code",
        "outputId": "1aff1c69-bbf4-4a41-c559-4460ad48a219",
        "colab": {
          "base_uri": "https://localhost:8080/",
          "height": 321
        }
      },
      "cell_type": "code",
      "source": [
        "learn.fit_one_cycle(12, max_lr=0.05)"
      ],
      "execution_count": 0,
      "outputs": [
        {
          "output_type": "display_data",
          "data": {
            "text/html": [
              "Total time: 09:01 <p><table style='width:300px; margin-bottom:10px'>\n",
              "  <tr>\n",
              "    <th>epoch</th>\n",
              "    <th>train_loss</th>\n",
              "    <th>valid_loss</th>\n",
              "    <th>accuracy</th>\n",
              "  </tr>\n",
              "  <tr>\n",
              "    <th>1</th>\n",
              "    <th>0.229725</th>\n",
              "    <th>0.190041</th>\n",
              "    <th>0.945800</th>\n",
              "  </tr>\n",
              "  <tr>\n",
              "    <th>2</th>\n",
              "    <th>0.130763</th>\n",
              "    <th>0.073761</th>\n",
              "    <th>0.976300</th>\n",
              "  </tr>\n",
              "  <tr>\n",
              "    <th>3</th>\n",
              "    <th>0.098851</th>\n",
              "    <th>0.110575</th>\n",
              "    <th>0.966700</th>\n",
              "  </tr>\n",
              "  <tr>\n",
              "    <th>4</th>\n",
              "    <th>0.085101</th>\n",
              "    <th>0.145754</th>\n",
              "    <th>0.951700</th>\n",
              "  </tr>\n",
              "  <tr>\n",
              "    <th>5</th>\n",
              "    <th>0.073958</th>\n",
              "    <th>0.061462</th>\n",
              "    <th>0.981800</th>\n",
              "  </tr>\n",
              "  <tr>\n",
              "    <th>6</th>\n",
              "    <th>0.061645</th>\n",
              "    <th>0.045064</th>\n",
              "    <th>0.985100</th>\n",
              "  </tr>\n",
              "  <tr>\n",
              "    <th>7</th>\n",
              "    <th>0.050730</th>\n",
              "    <th>0.041523</th>\n",
              "    <th>0.987200</th>\n",
              "  </tr>\n",
              "  <tr>\n",
              "    <th>8</th>\n",
              "    <th>0.038168</th>\n",
              "    <th>0.024006</th>\n",
              "    <th>0.992200</th>\n",
              "  </tr>\n",
              "  <tr>\n",
              "    <th>9</th>\n",
              "    <th>0.032805</th>\n",
              "    <th>0.020314</th>\n",
              "    <th>0.993900</th>\n",
              "  </tr>\n",
              "  <tr>\n",
              "    <th>10</th>\n",
              "    <th>0.024557</th>\n",
              "    <th>0.018014</th>\n",
              "    <th>0.993800</th>\n",
              "  </tr>\n",
              "  <tr>\n",
              "    <th>11</th>\n",
              "    <th>0.021991</th>\n",
              "    <th>0.015107</th>\n",
              "    <th>0.995300</th>\n",
              "  </tr>\n",
              "  <tr>\n",
              "    <th>12</th>\n",
              "    <th>0.017127</th>\n",
              "    <th>0.015868</th>\n",
              "    <th>0.995000</th>\n",
              "  </tr>\n",
              "</table>\n"
            ],
            "text/plain": [
              "<IPython.core.display.HTML object>"
            ]
          },
          "metadata": {
            "tags": []
          }
        }
      ]
    },
    {
      "metadata": {
        "id": "cihhTiEWoxYO",
        "colab_type": "code",
        "outputId": "94b5c23a-512b-41f3-bbcd-e4896335cb56",
        "colab": {
          "base_uri": "https://localhost:8080/",
          "height": 1664
        }
      },
      "cell_type": "code",
      "source": [
        "learn.summary()"
      ],
      "execution_count": 0,
      "outputs": [
        {
          "output_type": "stream",
          "text": [
            "======================================================================\n",
            "Layer (type)         Output Shape         Param #    Trainable \n",
            "======================================================================\n",
            "Conv2d               [128, 8, 14, 14]     72         True      \n",
            "______________________________________________________________________\n",
            "ReLU                 [128, 8, 14, 14]     0          False     \n",
            "______________________________________________________________________\n",
            "BatchNorm2d          [128, 8, 14, 14]     16         True      \n",
            "______________________________________________________________________\n",
            "Conv2d               [128, 8, 14, 14]     576        True      \n",
            "______________________________________________________________________\n",
            "ReLU                 [128, 8, 14, 14]     0          False     \n",
            "______________________________________________________________________\n",
            "BatchNorm2d          [128, 8, 14, 14]     16         True      \n",
            "______________________________________________________________________\n",
            "Conv2d               [128, 8, 14, 14]     576        True      \n",
            "______________________________________________________________________\n",
            "ReLU                 [128, 8, 14, 14]     0          False     \n",
            "______________________________________________________________________\n",
            "BatchNorm2d          [128, 8, 14, 14]     16         True      \n",
            "______________________________________________________________________\n",
            "MergeLayer           [128, 8, 14, 14]     0          False     \n",
            "______________________________________________________________________\n",
            "Conv2d               [128, 16, 7, 7]      1152       True      \n",
            "______________________________________________________________________\n",
            "ReLU                 [128, 16, 7, 7]      0          False     \n",
            "______________________________________________________________________\n",
            "BatchNorm2d          [128, 16, 7, 7]      32         True      \n",
            "______________________________________________________________________\n",
            "Conv2d               [128, 16, 7, 7]      2304       True      \n",
            "______________________________________________________________________\n",
            "ReLU                 [128, 16, 7, 7]      0          False     \n",
            "______________________________________________________________________\n",
            "BatchNorm2d          [128, 16, 7, 7]      32         True      \n",
            "______________________________________________________________________\n",
            "Conv2d               [128, 16, 7, 7]      2304       True      \n",
            "______________________________________________________________________\n",
            "ReLU                 [128, 16, 7, 7]      0          False     \n",
            "______________________________________________________________________\n",
            "BatchNorm2d          [128, 16, 7, 7]      32         True      \n",
            "______________________________________________________________________\n",
            "MergeLayer           [128, 16, 7, 7]      0          False     \n",
            "______________________________________________________________________\n",
            "Conv2d               [128, 32, 4, 4]      4608       True      \n",
            "______________________________________________________________________\n",
            "ReLU                 [128, 32, 4, 4]      0          False     \n",
            "______________________________________________________________________\n",
            "BatchNorm2d          [128, 32, 4, 4]      64         True      \n",
            "______________________________________________________________________\n",
            "Conv2d               [128, 32, 4, 4]      9216       True      \n",
            "______________________________________________________________________\n",
            "ReLU                 [128, 32, 4, 4]      0          False     \n",
            "______________________________________________________________________\n",
            "BatchNorm2d          [128, 32, 4, 4]      64         True      \n",
            "______________________________________________________________________\n",
            "Conv2d               [128, 32, 4, 4]      9216       True      \n",
            "______________________________________________________________________\n",
            "ReLU                 [128, 32, 4, 4]      0          False     \n",
            "______________________________________________________________________\n",
            "BatchNorm2d          [128, 32, 4, 4]      64         True      \n",
            "______________________________________________________________________\n",
            "MergeLayer           [128, 32, 4, 4]      0          False     \n",
            "______________________________________________________________________\n",
            "Conv2d               [128, 16, 2, 2]      4608       True      \n",
            "______________________________________________________________________\n",
            "ReLU                 [128, 16, 2, 2]      0          False     \n",
            "______________________________________________________________________\n",
            "BatchNorm2d          [128, 16, 2, 2]      32         True      \n",
            "______________________________________________________________________\n",
            "Conv2d               [128, 16, 2, 2]      2304       True      \n",
            "______________________________________________________________________\n",
            "ReLU                 [128, 16, 2, 2]      0          False     \n",
            "______________________________________________________________________\n",
            "BatchNorm2d          [128, 16, 2, 2]      32         True      \n",
            "______________________________________________________________________\n",
            "Conv2d               [128, 16, 2, 2]      2304       True      \n",
            "______________________________________________________________________\n",
            "ReLU                 [128, 16, 2, 2]      0          False     \n",
            "______________________________________________________________________\n",
            "BatchNorm2d          [128, 16, 2, 2]      32         True      \n",
            "______________________________________________________________________\n",
            "MergeLayer           [128, 16, 2, 2]      0          False     \n",
            "______________________________________________________________________\n",
            "Conv2d               [128, 10, 1, 1]      1440       True      \n",
            "______________________________________________________________________\n",
            "ReLU                 [128, 10, 1, 1]      0          False     \n",
            "______________________________________________________________________\n",
            "BatchNorm2d          [128, 10, 1, 1]      20         True      \n",
            "______________________________________________________________________\n",
            "Lambda               [128, 10]            0          False     \n",
            "______________________________________________________________________\n",
            "\n",
            "Total params:  41132\n",
            "Total trainable params:  41132\n",
            "Total non-trainable params:  0\n"
          ],
          "name": "stdout"
        }
      ]
    },
    {
      "metadata": {
        "id": "L5w9TQh-yG4b",
        "colab_type": "text"
      },
      "cell_type": "markdown",
      "source": [
        "# DL for solar Images"
      ]
    },
    {
      "metadata": {
        "id": "U9NkaBCkyJlB",
        "colab_type": "code",
        "colab": {
          "base_uri": "https://localhost:8080/",
          "height": 104
        },
        "outputId": "40de881f-4c61-4ebc-92bf-27da0bab6a45"
      },
      "cell_type": "code",
      "source": [
        "!git clone https://github.com/zae-bayern/elpv-dataset"
      ],
      "execution_count": 50,
      "outputs": [
        {
          "output_type": "stream",
          "text": [
            "Cloning into 'elpv-dataset'...\n",
            "remote: Enumerating objects: 2668, done.\u001b[K\n",
            "remote: Total 2668 (delta 0), reused 0 (delta 0), pack-reused 2668\u001b[K\n",
            "Receiving objects: 100% (2668/2668), 90.79 MiB | 12.54 MiB/s, done.\n",
            "Resolving deltas: 100% (18/18), done.\n"
          ],
          "name": "stdout"
        }
      ]
    },
    {
      "metadata": {
        "id": "jLEAI6v9yXp3",
        "colab_type": "code",
        "colab": {}
      },
      "cell_type": "code",
      "source": [
        "PATH = Path('elpv-dataset')\n",
        "TRAIN = PATH/'images'\n",
        "LABELS = PATH/'labels.csv'"
      ],
      "execution_count": 0,
      "outputs": []
    },
    {
      "metadata": {
        "id": "BSC5TTc1zSXt",
        "colab_type": "code",
        "colab": {}
      },
      "cell_type": "code",
      "source": [
        "labels_df = pd.read_csv(LABELS, names=['id', 'default', 'techno'], header=None, delim_whitespace=True )"
      ],
      "execution_count": 0,
      "outputs": []
    },
    {
      "metadata": {
        "id": "4NUvSohuz0_b",
        "colab_type": "code",
        "colab": {
          "base_uri": "https://localhost:8080/",
          "height": 202
        },
        "outputId": "e38f3b8e-6eb1-4ae0-a103-b31ac474612b"
      },
      "cell_type": "code",
      "source": [
        "labels_df.head()"
      ],
      "execution_count": 84,
      "outputs": [
        {
          "output_type": "execute_result",
          "data": {
            "text/html": [
              "<div>\n",
              "<style scoped>\n",
              "    .dataframe tbody tr th:only-of-type {\n",
              "        vertical-align: middle;\n",
              "    }\n",
              "\n",
              "    .dataframe tbody tr th {\n",
              "        vertical-align: top;\n",
              "    }\n",
              "\n",
              "    .dataframe thead th {\n",
              "        text-align: right;\n",
              "    }\n",
              "</style>\n",
              "<table border=\"1\" class=\"dataframe\">\n",
              "  <thead>\n",
              "    <tr style=\"text-align: right;\">\n",
              "      <th></th>\n",
              "      <th>id</th>\n",
              "      <th>default</th>\n",
              "      <th>techno</th>\n",
              "    </tr>\n",
              "  </thead>\n",
              "  <tbody>\n",
              "    <tr>\n",
              "      <th>0</th>\n",
              "      <td>images/cell0001.png</td>\n",
              "      <td>1.0</td>\n",
              "      <td>mono</td>\n",
              "    </tr>\n",
              "    <tr>\n",
              "      <th>1</th>\n",
              "      <td>images/cell0002.png</td>\n",
              "      <td>1.0</td>\n",
              "      <td>mono</td>\n",
              "    </tr>\n",
              "    <tr>\n",
              "      <th>2</th>\n",
              "      <td>images/cell0003.png</td>\n",
              "      <td>1.0</td>\n",
              "      <td>mono</td>\n",
              "    </tr>\n",
              "    <tr>\n",
              "      <th>3</th>\n",
              "      <td>images/cell0004.png</td>\n",
              "      <td>0.0</td>\n",
              "      <td>mono</td>\n",
              "    </tr>\n",
              "    <tr>\n",
              "      <th>4</th>\n",
              "      <td>images/cell0005.png</td>\n",
              "      <td>1.0</td>\n",
              "      <td>mono</td>\n",
              "    </tr>\n",
              "  </tbody>\n",
              "</table>\n",
              "</div>"
            ],
            "text/plain": [
              "                    id  default techno\n",
              "0  images/cell0001.png      1.0   mono\n",
              "1  images/cell0002.png      1.0   mono\n",
              "2  images/cell0003.png      1.0   mono\n",
              "3  images/cell0004.png      0.0   mono\n",
              "4  images/cell0005.png      1.0   mono"
            ]
          },
          "metadata": {
            "tags": []
          },
          "execution_count": 84
        }
      ]
    },
    {
      "metadata": {
        "id": "RQkPraNJymTW",
        "colab_type": "code",
        "colab": {}
      },
      "cell_type": "code",
      "source": [
        "source = (ImageItemList.from_df(df=labels_df, path=PATH, cols='id')\n",
        "         .random_split_by_pct(0.2)\n",
        "         .label_from_df('default', label_cls=CategoryList)\n",
        "         )"
      ],
      "execution_count": 0,
      "outputs": []
    },
    {
      "metadata": {
        "id": "_dj85_SSzcxZ",
        "colab_type": "code",
        "colab": {
          "base_uri": "https://localhost:8080/",
          "height": 347
        },
        "outputId": "2a4c0def-2276-458f-a2ed-e4d32ff9a9e1"
      },
      "cell_type": "code",
      "source": [
        "source"
      ],
      "execution_count": 111,
      "outputs": [
        {
          "output_type": "execute_result",
          "data": {
            "text/plain": [
              "LabelLists;\n",
              "\n",
              "Train: LabelList\n",
              "y: CategoryList (2100 items)\n",
              "[Category 1.0, Category 1.0, Category 1.0, Category 1.0, Category 1.0]...\n",
              "Path: elpv-dataset\n",
              "x: ImageItemList (2100 items)\n",
              "[Image (3, 300, 300), Image (3, 300, 300), Image (3, 300, 300), Image (3, 300, 300), Image (3, 300, 300)]...\n",
              "Path: elpv-dataset;\n",
              "\n",
              "Valid: LabelList\n",
              "y: CategoryList (524 items)\n",
              "[Category 0.0, Category 0.0, Category 1.0, Category 0.0, Category 1.0]...\n",
              "Path: elpv-dataset\n",
              "x: ImageItemList (524 items)\n",
              "[Image (3, 300, 300), Image (3, 300, 300), Image (3, 300, 300), Image (3, 300, 300), Image (3, 300, 300)]...\n",
              "Path: elpv-dataset;\n",
              "\n",
              "Test: None"
            ]
          },
          "metadata": {
            "tags": []
          },
          "execution_count": 111
        }
      ]
    },
    {
      "metadata": {
        "id": "ibg7J5yr2EiA",
        "colab_type": "code",
        "colab": {}
      },
      "cell_type": "code",
      "source": [
        "tfms = get_transforms()"
      ],
      "execution_count": 0,
      "outputs": []
    },
    {
      "metadata": {
        "id": "qZKq8fZh2G_f",
        "colab_type": "code",
        "colab": {}
      },
      "cell_type": "code",
      "source": [
        "def get_data(bs=64, sz=128):\n",
        "  data = (source.transform(tfms, size=sz)\n",
        "          .databunch(bs=bs).normalize())\n",
        "  return data"
      ],
      "execution_count": 0,
      "outputs": []
    },
    {
      "metadata": {
        "id": "D_A3PPL22hgQ",
        "colab_type": "code",
        "colab": {}
      },
      "cell_type": "code",
      "source": [
        "data = get_data()"
      ],
      "execution_count": 0,
      "outputs": []
    },
    {
      "metadata": {
        "id": "-pm9LZOz2jRh",
        "colab_type": "code",
        "colab": {
          "base_uri": "https://localhost:8080/",
          "height": 657
        },
        "outputId": "165a44ef-b59b-4bf9-9021-0290b2faec91"
      },
      "cell_type": "code",
      "source": [
        "data.show_batch(ds_type=DatasetType.Train, rows=2, figsize=(9,9))"
      ],
      "execution_count": 120,
      "outputs": [
        {
          "output_type": "display_data",
          "data": {
            "image/png": "[encoded data removed]",
            "text/plain": [
              "<matplotlib.figure.Figure at 0x7f31a7331b38>"
            ]
          },
          "metadata": {
            "tags": []
          }
        }
      ]
    },
    {
      "metadata": {
        "id": "GuZtAcSp3ASQ",
        "colab_type": "code",
        "colab": {}
      },
      "cell_type": "code",
      "source": [
        "arch = models.resnet18"
      ],
      "execution_count": 0,
      "outputs": []
    },
    {
      "metadata": {
        "id": "QEBS3Sfp9a3z",
        "colab_type": "code",
        "colab": {}
      },
      "cell_type": "code",
      "source": [
        "learn = create_cnn(data, arch, metrics=[accuracy], callback_fns=[ShowGraph])"
      ],
      "execution_count": 0,
      "outputs": []
    },
    {
      "metadata": {
        "id": "BSSmu35u9dc3",
        "colab_type": "code",
        "colab": {
          "base_uri": "https://localhost:8080/",
          "height": 2236
        },
        "outputId": "b9903f8b-12af-4593-80b5-b6038c78c250"
      },
      "cell_type": "code",
      "source": [
        "print(learn.summary())"
      ],
      "execution_count": 137,
      "outputs": [
        {
          "output_type": "stream",
          "text": [
            "======================================================================\n",
            "Layer (type)         Output Shape         Param #    Trainable \n",
            "======================================================================\n",
            "Conv2d               [64, 64, 150, 150]   9408       False     \n",
            "______________________________________________________________________\n",
            "BatchNorm2d          [64, 64, 150, 150]   128        True      \n",
            "______________________________________________________________________\n",
            "ReLU                 [64, 64, 150, 150]   0          False     \n",
            "______________________________________________________________________\n",
            "MaxPool2d            [64, 64, 75, 75]     0          False     \n",
            "______________________________________________________________________\n",
            "Conv2d               [64, 64, 75, 75]     36864      False     \n",
            "______________________________________________________________________\n",
            "BatchNorm2d          [64, 64, 75, 75]     128        True      \n",
            "______________________________________________________________________\n",
            "ReLU                 [64, 64, 75, 75]     0          False     \n",
            "______________________________________________________________________\n",
            "Conv2d               [64, 64, 75, 75]     36864      False     \n",
            "______________________________________________________________________\n",
            "BatchNorm2d          [64, 64, 75, 75]     128        True      \n",
            "______________________________________________________________________\n",
            "Conv2d               [64, 64, 75, 75]     36864      False     \n",
            "______________________________________________________________________\n",
            "BatchNorm2d          [64, 64, 75, 75]     128        True      \n",
            "______________________________________________________________________\n",
            "ReLU                 [64, 64, 75, 75]     0          False     \n",
            "______________________________________________________________________\n",
            "Conv2d               [64, 64, 75, 75]     36864      False     \n",
            "______________________________________________________________________\n",
            "BatchNorm2d          [64, 64, 75, 75]     128        True      \n",
            "______________________________________________________________________\n",
            "Conv2d               [64, 128, 38, 38]    73728      False     \n",
            "______________________________________________________________________\n",
            "BatchNorm2d          [64, 128, 38, 38]    256        True      \n",
            "______________________________________________________________________\n",
            "ReLU                 [64, 128, 38, 38]    0          False     \n",
            "______________________________________________________________________\n",
            "Conv2d               [64, 128, 38, 38]    147456     False     \n",
            "______________________________________________________________________\n",
            "BatchNorm2d          [64, 128, 38, 38]    256        True      \n",
            "______________________________________________________________________\n",
            "Conv2d               [64, 128, 38, 38]    8192       False     \n",
            "______________________________________________________________________\n",
            "BatchNorm2d          [64, 128, 38, 38]    256        True      \n",
            "______________________________________________________________________\n",
            "Conv2d               [64, 128, 38, 38]    147456     False     \n",
            "______________________________________________________________________\n",
            "BatchNorm2d          [64, 128, 38, 38]    256        True      \n",
            "______________________________________________________________________\n",
            "ReLU                 [64, 128, 38, 38]    0          False     \n",
            "______________________________________________________________________\n",
            "Conv2d               [64, 128, 38, 38]    147456     False     \n",
            "______________________________________________________________________\n",
            "BatchNorm2d          [64, 128, 38, 38]    256        True      \n",
            "______________________________________________________________________\n",
            "Conv2d               [64, 256, 19, 19]    294912     False     \n",
            "______________________________________________________________________\n",
            "BatchNorm2d          [64, 256, 19, 19]    512        True      \n",
            "______________________________________________________________________\n",
            "ReLU                 [64, 256, 19, 19]    0          False     \n",
            "______________________________________________________________________\n",
            "Conv2d               [64, 256, 19, 19]    589824     False     \n",
            "______________________________________________________________________\n",
            "BatchNorm2d          [64, 256, 19, 19]    512        True      \n",
            "______________________________________________________________________\n",
            "Conv2d               [64, 256, 19, 19]    32768      False     \n",
            "______________________________________________________________________\n",
            "BatchNorm2d          [64, 256, 19, 19]    512        True      \n",
            "______________________________________________________________________\n",
            "Conv2d               [64, 256, 19, 19]    589824     False     \n",
            "______________________________________________________________________\n",
            "BatchNorm2d          [64, 256, 19, 19]    512        True      \n",
            "______________________________________________________________________\n",
            "ReLU                 [64, 256, 19, 19]    0          False     \n",
            "______________________________________________________________________\n",
            "Conv2d               [64, 256, 19, 19]    589824     False     \n",
            "______________________________________________________________________\n",
            "BatchNorm2d          [64, 256, 19, 19]    512        True      \n",
            "______________________________________________________________________\n",
            "Conv2d               [64, 512, 10, 10]    1179648    False     \n",
            "______________________________________________________________________\n",
            "BatchNorm2d          [64, 512, 10, 10]    1024       True      \n",
            "______________________________________________________________________\n",
            "ReLU                 [64, 512, 10, 10]    0          False     \n",
            "______________________________________________________________________\n",
            "Conv2d               [64, 512, 10, 10]    2359296    False     \n",
            "______________________________________________________________________\n",
            "BatchNorm2d          [64, 512, 10, 10]    1024       True      \n",
            "______________________________________________________________________\n",
            "Conv2d               [64, 512, 10, 10]    131072     False     \n",
            "______________________________________________________________________\n",
            "BatchNorm2d          [64, 512, 10, 10]    1024       True      \n",
            "______________________________________________________________________\n",
            "Conv2d               [64, 512, 10, 10]    2359296    False     \n",
            "______________________________________________________________________\n",
            "BatchNorm2d          [64, 512, 10, 10]    1024       True      \n",
            "______________________________________________________________________\n",
            "ReLU                 [64, 512, 10, 10]    0          False     \n",
            "______________________________________________________________________\n",
            "Conv2d               [64, 512, 10, 10]    2359296    False     \n",
            "______________________________________________________________________\n",
            "BatchNorm2d          [64, 512, 10, 10]    1024       True      \n",
            "______________________________________________________________________\n",
            "AdaptiveAvgPool2d    [64, 512, 1, 1]      0          False     \n",
            "______________________________________________________________________\n",
            "AdaptiveMaxPool2d    [64, 512, 1, 1]      0          False     \n",
            "______________________________________________________________________\n",
            "Lambda               [64, 1024]           0          False     \n",
            "______________________________________________________________________\n",
            "BatchNorm1d          [64, 1024]           2048       True      \n",
            "______________________________________________________________________\n",
            "Dropout              [64, 1024]           0          False     \n",
            "______________________________________________________________________\n",
            "Linear               [64, 512]            524800     True      \n",
            "______________________________________________________________________\n",
            "ReLU                 [64, 512]            0          False     \n",
            "______________________________________________________________________\n",
            "BatchNorm1d          [64, 512]            1024       True      \n",
            "______________________________________________________________________\n",
            "Dropout              [64, 512]            0          False     \n",
            "______________________________________________________________________\n",
            "Linear               [64, 4]              2052       True      \n",
            "______________________________________________________________________\n",
            "\n",
            "Total params: 11706436\n",
            "Total trainable params: 539524\n",
            "Total non-trainable params: 11166912\n",
            "\n"
          ],
          "name": "stdout"
        }
      ]
    },
    {
      "metadata": {
        "id": "SNhENh7f3aij",
        "colab_type": "code",
        "colab": {
          "base_uri": "https://localhost:8080/",
          "height": 411
        },
        "outputId": "f9be8a15-28fc-4cc6-de44-e1e9c7cdb233"
      },
      "cell_type": "code",
      "source": [
        "learn.lr_find(); learn.recorder.plot()"
      ],
      "execution_count": 138,
      "outputs": [
        {
          "output_type": "display_data",
          "data": {
            "text/html": [
              "\n",
              "    <div>\n",
              "        <style>\n",
              "            /* Turns off some styling */\n",
              "            progress {\n",
              "                /* gets rid of default border in Firefox and Opera. */\n",
              "                border: none;\n",
              "                /* Needs to be in here for Safari polyfill so background images work as expected. */\n",
              "                background-size: auto;\n",
              "            }\n",
              "            .progress-bar-interrupted, .progress-bar-interrupted::-webkit-progress-bar {\n",
              "                background: #F44336;\n",
              "            }\n",
              "        </style>\n",
              "      <progress value='2' class='' max='4', style='width:300px; height:20px; vertical-align: middle;'></progress>\n",
              "      50.00% [2/4 00:51<00:51]\n",
              "    </div>\n",
              "    \n",
              "<table style='width:300px; margin-bottom:10px'>\n",
              "  <tr>\n",
              "    <th>epoch</th>\n",
              "    <th>train_loss</th>\n",
              "    <th>valid_loss</th>\n",
              "    <th>accuracy</th>\n",
              "  </tr>\n",
              "  <tr>\n",
              "    <th>1</th>\n",
              "    <th>1.807731</th>\n",
              "  </tr>\n",
              "  <tr>\n",
              "    <th>2</th>\n",
              "    <th>1.619269</th>\n",
              "  </tr>\n",
              "</table>\n",
              "\n",
              "\n",
              "    <div>\n",
              "        <style>\n",
              "            /* Turns off some styling */\n",
              "            progress {\n",
              "                /* gets rid of default border in Firefox and Opera. */\n",
              "                border: none;\n",
              "                /* Needs to be in here for Safari polyfill so background images work as expected. */\n",
              "                background-size: auto;\n",
              "            }\n",
              "            .progress-bar-interrupted, .progress-bar-interrupted::-webkit-progress-bar {\n",
              "                background: #F44336;\n",
              "            }\n",
              "        </style>\n",
              "      <progress value='0' class='progress-bar-interrupted' max='32', style='width:300px; height:20px; vertical-align: middle;'></progress>\n",
              "      Interrupted\n",
              "    </div>\n",
              "    "
            ],
            "text/plain": [
              "<IPython.core.display.HTML object>"
            ]
          },
          "metadata": {
            "tags": []
          }
        },
        {
          "output_type": "stream",
          "text": [
            "LR Finder is complete, type {learner_name}.recorder.plot() to see the graph.\n"
          ],
          "name": "stdout"
        },
        {
          "output_type": "display_data",
          "data": {
            "image/png": "[encoded data removed]",
            "text/plain": [
              "<matplotlib.figure.Figure at 0x7f31ad64c390>"
            ]
          },
          "metadata": {
            "tags": []
          }
        }
      ]
    },
    {
      "metadata": {
        "id": "75wRMznV3fpR",
        "colab_type": "code",
        "colab": {}
      },
      "cell_type": "code",
      "source": [
        "lr = 5e-3"
      ],
      "execution_count": 0,
      "outputs": []
    },
    {
      "metadata": {
        "id": "N1hn6J-a30qz",
        "colab_type": "code",
        "colab": {
          "base_uri": "https://localhost:8080/",
          "height": 1152
        },
        "outputId": "94189e98-71ac-4d08-f4ba-5875e02b078a"
      },
      "cell_type": "code",
      "source": [
        "learn.fit_one_cycle(10, lr)"
      ],
      "execution_count": 140,
      "outputs": [
        {
          "output_type": "display_data",
          "data": {
            "text/html": [
              "Total time: 05:06 <p><table style='width:300px; margin-bottom:10px'>\n",
              "  <tr>\n",
              "    <th>epoch</th>\n",
              "    <th>train_loss</th>\n",
              "    <th>valid_loss</th>\n",
              "    <th>accuracy</th>\n",
              "  </tr>\n",
              "  <tr>\n",
              "    <th>1</th>\n",
              "    <th>1.533063</th>\n",
              "    <th>1.156332</th>\n",
              "    <th>0.549618</th>\n",
              "  </tr>\n",
              "  <tr>\n",
              "    <th>2</th>\n",
              "    <th>1.229394</th>\n",
              "    <th>0.820612</th>\n",
              "    <th>0.711832</th>\n",
              "  </tr>\n",
              "  <tr>\n",
              "    <th>3</th>\n",
              "    <th>1.054223</th>\n",
              "    <th>0.809082</th>\n",
              "    <th>0.690840</th>\n",
              "  </tr>\n",
              "  <tr>\n",
              "    <th>4</th>\n",
              "    <th>0.952677</th>\n",
              "    <th>0.758113</th>\n",
              "    <th>0.698473</th>\n",
              "  </tr>\n",
              "  <tr>\n",
              "    <th>5</th>\n",
              "    <th>0.887276</th>\n",
              "    <th>0.705346</th>\n",
              "    <th>0.734733</th>\n",
              "  </tr>\n",
              "  <tr>\n",
              "    <th>6</th>\n",
              "    <th>0.824099</th>\n",
              "    <th>0.690955</th>\n",
              "    <th>0.738550</th>\n",
              "  </tr>\n",
              "  <tr>\n",
              "    <th>7</th>\n",
              "    <th>0.786896</th>\n",
              "    <th>0.705293</th>\n",
              "    <th>0.750000</th>\n",
              "  </tr>\n",
              "  <tr>\n",
              "    <th>8</th>\n",
              "    <th>0.761880</th>\n",
              "    <th>0.659280</th>\n",
              "    <th>0.759542</th>\n",
              "  </tr>\n",
              "  <tr>\n",
              "    <th>9</th>\n",
              "    <th>0.732114</th>\n",
              "    <th>0.665190</th>\n",
              "    <th>0.763359</th>\n",
              "  </tr>\n",
              "  <tr>\n",
              "    <th>10</th>\n",
              "    <th>0.703551</th>\n",
              "    <th>0.662640</th>\n",
              "    <th>0.765267</th>\n",
              "  </tr>\n",
              "</table>\n"
            ],
            "text/plain": [
              "<IPython.core.display.HTML object>"
            ]
          },
          "metadata": {
            "tags": []
          }
        },
        {
          "output_type": "display_data",
          "data": {
            "image/png": "[encoded data removed]",
            "text/plain": [
              "<matplotlib.figure.Figure at 0x7f31ad5668d0>"
            ]
          },
          "metadata": {
            "tags": []
          }
        },
        {
          "output_type": "stream",
          "text": [
            "Exception ignored in: <bound method _DataLoaderIter.__del__ of <torch.utils.data.dataloader._DataLoaderIter object at 0x7f31abec2358>>\n",
            "Traceback (most recent call last):\n",
            "  File \"/usr/local/lib/python3.6/dist-packages/torch/utils/data/dataloader.py\", line 717, in __del__\n",
            "    self._shutdown_workers()\n",
            "  File \"/usr/local/lib/python3.6/dist-packages/torch/utils/data/dataloader.py\", line 713, in _shutdown_workers\n",
            "    w.join()\n",
            "  File \"/usr/lib/python3.6/multiprocessing/process.py\", line 122, in join\n",
            "    assert self._parent_pid == os.getpid(), 'can only join a child process'\n",
            "AssertionError: can only join a child process\n",
            "Exception ignored in: <bound method _DataLoaderIter.__del__ of <torch.utils.data.dataloader._DataLoaderIter object at 0x7f31abec2358>>\n",
            "Traceback (most recent call last):\n",
            "  File \"/usr/local/lib/python3.6/dist-packages/torch/utils/data/dataloader.py\", line 717, in __del__\n",
            "    self._shutdown_workers()\n",
            "  File \"/usr/local/lib/python3.6/dist-packages/torch/utils/data/dataloader.py\", line 713, in _shutdown_workers\n",
            "    w.join()\n",
            "  File \"/usr/lib/python3.6/multiprocessing/process.py\", line 122, in join\n",
            "    assert self._parent_pid == os.getpid(), 'can only join a child process'\n",
            "AssertionError: can only join a child process\n",
            "Exception ignored in: <bound method _DataLoaderIter.__del__ of <torch.utils.data.dataloader._DataLoaderIter object at 0x7f31abec2358>>\n",
            "Exception ignored in: <bound method _DataLoaderIter.__del__ of <torch.utils.data.dataloader._DataLoaderIter object at 0x7f31abec2358>>\n",
            "Traceback (most recent call last):\n",
            "  File \"/usr/local/lib/python3.6/dist-packages/torch/utils/data/dataloader.py\", line 717, in __del__\n",
            "Traceback (most recent call last):\n",
            "  File \"/usr/local/lib/python3.6/dist-packages/torch/utils/data/dataloader.py\", line 717, in __del__\n",
            "    self._shutdown_workers()\n",
            "  File \"/usr/local/lib/python3.6/dist-packages/torch/utils/data/dataloader.py\", line 713, in _shutdown_workers\n",
            "    w.join()\n",
            "    self._shutdown_workers()\n",
            "  File \"/usr/local/lib/python3.6/dist-packages/torch/utils/data/dataloader.py\", line 713, in _shutdown_workers\n",
            "  File \"/usr/lib/python3.6/multiprocessing/process.py\", line 122, in join\n",
            "    w.join()\n",
            "    assert self._parent_pid == os.getpid(), 'can only join a child process'\n",
            "AssertionError: can only join a child process\n",
            "  File \"/usr/lib/python3.6/multiprocessing/process.py\", line 122, in join\n",
            "    assert self._parent_pid == os.getpid(), 'can only join a child process'\n",
            "AssertionError: can only join a child process\n"
          ],
          "name": "stderr"
        }
      ]
    },
    {
      "metadata": {
        "id": "PLTVHpKp820B",
        "colab_type": "code",
        "colab": {}
      },
      "cell_type": "code",
      "source": [
        "learn.unfreeze()"
      ],
      "execution_count": 0,
      "outputs": []
    },
    {
      "metadata": {
        "id": "MkWpaX9WA1jo",
        "colab_type": "code",
        "colab": {
          "base_uri": "https://localhost:8080/",
          "height": 2236
        },
        "outputId": "24fba93b-cb74-41b1-a38c-ee5c806e41d2"
      },
      "cell_type": "code",
      "source": [
        "print(learn.summary())"
      ],
      "execution_count": 144,
      "outputs": [
        {
          "output_type": "stream",
          "text": [
            "======================================================================\n",
            "Layer (type)         Output Shape         Param #    Trainable \n",
            "======================================================================\n",
            "Conv2d               [64, 64, 150, 150]   9408       True      \n",
            "______________________________________________________________________\n",
            "BatchNorm2d          [64, 64, 150, 150]   128        True      \n",
            "______________________________________________________________________\n",
            "ReLU                 [64, 64, 150, 150]   0          False     \n",
            "______________________________________________________________________\n",
            "MaxPool2d            [64, 64, 75, 75]     0          False     \n",
            "______________________________________________________________________\n",
            "Conv2d               [64, 64, 75, 75]     36864      True      \n",
            "______________________________________________________________________\n",
            "BatchNorm2d          [64, 64, 75, 75]     128        True      \n",
            "______________________________________________________________________\n",
            "ReLU                 [64, 64, 75, 75]     0          False     \n",
            "______________________________________________________________________\n",
            "Conv2d               [64, 64, 75, 75]     36864      True      \n",
            "______________________________________________________________________\n",
            "BatchNorm2d          [64, 64, 75, 75]     128        True      \n",
            "______________________________________________________________________\n",
            "Conv2d               [64, 64, 75, 75]     36864      True      \n",
            "______________________________________________________________________\n",
            "BatchNorm2d          [64, 64, 75, 75]     128        True      \n",
            "______________________________________________________________________\n",
            "ReLU                 [64, 64, 75, 75]     0          False     \n",
            "______________________________________________________________________\n",
            "Conv2d               [64, 64, 75, 75]     36864      True      \n",
            "______________________________________________________________________\n",
            "BatchNorm2d          [64, 64, 75, 75]     128        True      \n",
            "______________________________________________________________________\n",
            "Conv2d               [64, 128, 38, 38]    73728      True      \n",
            "______________________________________________________________________\n",
            "BatchNorm2d          [64, 128, 38, 38]    256        True      \n",
            "______________________________________________________________________\n",
            "ReLU                 [64, 128, 38, 38]    0          False     \n",
            "______________________________________________________________________\n",
            "Conv2d               [64, 128, 38, 38]    147456     True      \n",
            "______________________________________________________________________\n",
            "BatchNorm2d          [64, 128, 38, 38]    256        True      \n",
            "______________________________________________________________________\n",
            "Conv2d               [64, 128, 38, 38]    8192       True      \n",
            "______________________________________________________________________\n",
            "BatchNorm2d          [64, 128, 38, 38]    256        True      \n",
            "______________________________________________________________________\n",
            "Conv2d               [64, 128, 38, 38]    147456     True      \n",
            "______________________________________________________________________\n",
            "BatchNorm2d          [64, 128, 38, 38]    256        True      \n",
            "______________________________________________________________________\n",
            "ReLU                 [64, 128, 38, 38]    0          False     \n",
            "______________________________________________________________________\n",
            "Conv2d               [64, 128, 38, 38]    147456     True      \n",
            "______________________________________________________________________\n",
            "BatchNorm2d          [64, 128, 38, 38]    256        True      \n",
            "______________________________________________________________________\n",
            "Conv2d               [64, 256, 19, 19]    294912     True      \n",
            "______________________________________________________________________\n",
            "BatchNorm2d          [64, 256, 19, 19]    512        True      \n",
            "______________________________________________________________________\n",
            "ReLU                 [64, 256, 19, 19]    0          False     \n",
            "______________________________________________________________________\n",
            "Conv2d               [64, 256, 19, 19]    589824     True      \n",
            "______________________________________________________________________\n",
            "BatchNorm2d          [64, 256, 19, 19]    512        True      \n",
            "______________________________________________________________________\n",
            "Conv2d               [64, 256, 19, 19]    32768      True      \n",
            "______________________________________________________________________\n",
            "BatchNorm2d          [64, 256, 19, 19]    512        True      \n",
            "______________________________________________________________________\n",
            "Conv2d               [64, 256, 19, 19]    589824     True      \n",
            "______________________________________________________________________\n",
            "BatchNorm2d          [64, 256, 19, 19]    512        True      \n",
            "______________________________________________________________________\n",
            "ReLU                 [64, 256, 19, 19]    0          False     \n",
            "______________________________________________________________________\n",
            "Conv2d               [64, 256, 19, 19]    589824     True      \n",
            "______________________________________________________________________\n",
            "BatchNorm2d          [64, 256, 19, 19]    512        True      \n",
            "______________________________________________________________________\n",
            "Conv2d               [64, 512, 10, 10]    1179648    True      \n",
            "______________________________________________________________________\n",
            "BatchNorm2d          [64, 512, 10, 10]    1024       True      \n",
            "______________________________________________________________________\n",
            "ReLU                 [64, 512, 10, 10]    0          False     \n",
            "______________________________________________________________________\n",
            "Conv2d               [64, 512, 10, 10]    2359296    True      \n",
            "______________________________________________________________________\n",
            "BatchNorm2d          [64, 512, 10, 10]    1024       True      \n",
            "______________________________________________________________________\n",
            "Conv2d               [64, 512, 10, 10]    131072     True      \n",
            "______________________________________________________________________\n",
            "BatchNorm2d          [64, 512, 10, 10]    1024       True      \n",
            "______________________________________________________________________\n",
            "Conv2d               [64, 512, 10, 10]    2359296    True      \n",
            "______________________________________________________________________\n",
            "BatchNorm2d          [64, 512, 10, 10]    1024       True      \n",
            "______________________________________________________________________\n",
            "ReLU                 [64, 512, 10, 10]    0          False     \n",
            "______________________________________________________________________\n",
            "Conv2d               [64, 512, 10, 10]    2359296    True      \n",
            "______________________________________________________________________\n",
            "BatchNorm2d          [64, 512, 10, 10]    1024       True      \n",
            "______________________________________________________________________\n",
            "AdaptiveAvgPool2d    [64, 512, 1, 1]      0          False     \n",
            "______________________________________________________________________\n",
            "AdaptiveMaxPool2d    [64, 512, 1, 1]      0          False     \n",
            "______________________________________________________________________\n",
            "Lambda               [64, 1024]           0          False     \n",
            "______________________________________________________________________\n",
            "BatchNorm1d          [64, 1024]           2048       True      \n",
            "______________________________________________________________________\n",
            "Dropout              [64, 1024]           0          False     \n",
            "______________________________________________________________________\n",
            "Linear               [64, 512]            524800     True      \n",
            "______________________________________________________________________\n",
            "ReLU                 [64, 512]            0          False     \n",
            "______________________________________________________________________\n",
            "BatchNorm1d          [64, 512]            1024       True      \n",
            "______________________________________________________________________\n",
            "Dropout              [64, 512]            0          False     \n",
            "______________________________________________________________________\n",
            "Linear               [64, 4]              2052       True      \n",
            "______________________________________________________________________\n",
            "\n",
            "Total params: 11706436\n",
            "Total trainable params: 11706436\n",
            "Total non-trainable params: 0\n",
            "\n"
          ],
          "name": "stdout"
        }
      ]
    },
    {
      "metadata": {
        "id": "09vq4O8A84nf",
        "colab_type": "code",
        "colab": {
          "base_uri": "https://localhost:8080/",
          "height": 445
        },
        "outputId": "e90b1654-24c5-47a0-88af-9b94889296d9"
      },
      "cell_type": "code",
      "source": [
        "learn.fit_one_cycle(6, slice(lr/12, lr/5))"
      ],
      "execution_count": 145,
      "outputs": [
        {
          "output_type": "display_data",
          "data": {
            "text/html": [
              "Total time: 03:15 <p><table style='width:300px; margin-bottom:10px'>\n",
              "  <tr>\n",
              "    <th>epoch</th>\n",
              "    <th>train_loss</th>\n",
              "    <th>valid_loss</th>\n",
              "    <th>accuracy</th>\n",
              "  </tr>\n",
              "  <tr>\n",
              "    <th>1</th>\n",
              "    <th>0.721242</th>\n",
              "    <th>1.043485</th>\n",
              "    <th>0.589695</th>\n",
              "  </tr>\n",
              "  <tr>\n",
              "    <th>2</th>\n",
              "    <th>0.742334</th>\n",
              "    <th>1.444745</th>\n",
              "    <th>0.580153</th>\n",
              "  </tr>\n",
              "  <tr>\n",
              "    <th>3</th>\n",
              "    <th>0.726921</th>\n",
              "    <th>0.719507</th>\n",
              "    <th>0.711832</th>\n",
              "  </tr>\n",
              "  <tr>\n",
              "    <th>4</th>\n",
              "    <th>0.689550</th>\n",
              "    <th>0.591530</th>\n",
              "    <th>0.797710</th>\n",
              "  </tr>\n",
              "  <tr>\n",
              "    <th>5</th>\n",
              "    <th>0.635478</th>\n",
              "    <th>0.531079</th>\n",
              "    <th>0.811069</th>\n",
              "  </tr>\n",
              "  <tr>\n",
              "    <th>6</th>\n",
              "    <th>0.595531</th>\n",
              "    <th>0.514337</th>\n",
              "    <th>0.822519</th>\n",
              "  </tr>\n",
              "</table>\n"
            ],
            "text/plain": [
              "<IPython.core.display.HTML object>"
            ]
          },
          "metadata": {
            "tags": []
          }
        },
        {
          "output_type": "display_data",
          "data": {
            "image/png": "[encoded data removed]",
            "text/plain": [
              "<matplotlib.figure.Figure at 0x7f31ad5662e8>"
            ]
          },
          "metadata": {
            "tags": []
          }
        }
      ]
    },
    {
      "metadata": {
        "id": "yQTu9tYJ32oS",
        "colab_type": "code",
        "colab": {}
      },
      "cell_type": "code",
      "source": [
        "learn.data = get_data(sz=300)"
      ],
      "execution_count": 0,
      "outputs": []
    },
    {
      "metadata": {
        "id": "nx_ntUDo7rd7",
        "colab_type": "code",
        "colab": {}
      },
      "cell_type": "code",
      "source": [
        "learn.freeze()"
      ],
      "execution_count": 0,
      "outputs": []
    },
    {
      "metadata": {
        "id": "uACGTsFiB3Wc",
        "colab_type": "code",
        "colab": {
          "base_uri": "https://localhost:8080/",
          "height": 411
        },
        "outputId": "7af57b6c-9cbe-4f8f-e120-90a1ffad3812"
      },
      "cell_type": "code",
      "source": [
        "learn.lr_find(); learn.recorder.plot()"
      ],
      "execution_count": 148,
      "outputs": [
        {
          "output_type": "display_data",
          "data": {
            "text/html": [
              "\n",
              "    <div>\n",
              "        <style>\n",
              "            /* Turns off some styling */\n",
              "            progress {\n",
              "                /* gets rid of default border in Firefox and Opera. */\n",
              "                border: none;\n",
              "                /* Needs to be in here for Safari polyfill so background images work as expected. */\n",
              "                background-size: auto;\n",
              "            }\n",
              "            .progress-bar-interrupted, .progress-bar-interrupted::-webkit-progress-bar {\n",
              "                background: #F44336;\n",
              "            }\n",
              "        </style>\n",
              "      <progress value='2' class='' max='4', style='width:300px; height:20px; vertical-align: middle;'></progress>\n",
              "      50.00% [2/4 00:51<00:51]\n",
              "    </div>\n",
              "    \n",
              "<table style='width:300px; margin-bottom:10px'>\n",
              "  <tr>\n",
              "    <th>epoch</th>\n",
              "    <th>train_loss</th>\n",
              "    <th>valid_loss</th>\n",
              "    <th>accuracy</th>\n",
              "  </tr>\n",
              "  <tr>\n",
              "    <th>1</th>\n",
              "    <th>0.529328</th>\n",
              "  </tr>\n",
              "  <tr>\n",
              "    <th>2</th>\n",
              "    <th>0.534763</th>\n",
              "  </tr>\n",
              "</table>\n",
              "\n",
              "\n",
              "    <div>\n",
              "        <style>\n",
              "            /* Turns off some styling */\n",
              "            progress {\n",
              "                /* gets rid of default border in Firefox and Opera. */\n",
              "                border: none;\n",
              "                /* Needs to be in here for Safari polyfill so background images work as expected. */\n",
              "                background-size: auto;\n",
              "            }\n",
              "            .progress-bar-interrupted, .progress-bar-interrupted::-webkit-progress-bar {\n",
              "                background: #F44336;\n",
              "            }\n",
              "        </style>\n",
              "      <progress value='0' class='progress-bar-interrupted' max='32', style='width:300px; height:20px; vertical-align: middle;'></progress>\n",
              "      Interrupted\n",
              "    </div>\n",
              "    "
            ],
            "text/plain": [
              "<IPython.core.display.HTML object>"
            ]
          },
          "metadata": {
            "tags": []
          }
        },
        {
          "output_type": "stream",
          "text": [
            "LR Finder is complete, type {learner_name}.recorder.plot() to see the graph.\n"
          ],
          "name": "stdout"
        },
        {
          "output_type": "display_data",
          "data": {
            "image/png": "[encoded data removed]",
            "text/plain": [
              "<matplotlib.figure.Figure at 0x7f31ad6e8b00>"
            ]
          },
          "metadata": {
            "tags": []
          }
        }
      ]
    },
    {
      "metadata": {
        "id": "fpzAvS0x7ute",
        "colab_type": "code",
        "colab": {
          "base_uri": "https://localhost:8080/",
          "height": 528
        },
        "outputId": "ca74308a-f5e5-4964-fcb4-bb729300e1e1"
      },
      "cell_type": "code",
      "source": [
        "learn.fit_one_cycle(10, slice(1e-4))"
      ],
      "execution_count": 149,
      "outputs": [
        {
          "output_type": "display_data",
          "data": {
            "text/html": [
              "Total time: 05:10 <p><table style='width:300px; margin-bottom:10px'>\n",
              "  <tr>\n",
              "    <th>epoch</th>\n",
              "    <th>train_loss</th>\n",
              "    <th>valid_loss</th>\n",
              "    <th>accuracy</th>\n",
              "  </tr>\n",
              "  <tr>\n",
              "    <th>1</th>\n",
              "    <th>0.530308</th>\n",
              "    <th>0.520354</th>\n",
              "    <th>0.818702</th>\n",
              "  </tr>\n",
              "  <tr>\n",
              "    <th>2</th>\n",
              "    <th>0.524709</th>\n",
              "    <th>0.514770</th>\n",
              "    <th>0.814885</th>\n",
              "  </tr>\n",
              "  <tr>\n",
              "    <th>3</th>\n",
              "    <th>0.524939</th>\n",
              "    <th>0.517988</th>\n",
              "    <th>0.816794</th>\n",
              "  </tr>\n",
              "  <tr>\n",
              "    <th>4</th>\n",
              "    <th>0.531728</th>\n",
              "    <th>0.518727</th>\n",
              "    <th>0.812977</th>\n",
              "  </tr>\n",
              "  <tr>\n",
              "    <th>5</th>\n",
              "    <th>0.529464</th>\n",
              "    <th>0.520075</th>\n",
              "    <th>0.816794</th>\n",
              "  </tr>\n",
              "  <tr>\n",
              "    <th>6</th>\n",
              "    <th>0.532791</th>\n",
              "    <th>0.519034</th>\n",
              "    <th>0.818702</th>\n",
              "  </tr>\n",
              "  <tr>\n",
              "    <th>7</th>\n",
              "    <th>0.517120</th>\n",
              "    <th>0.520934</th>\n",
              "    <th>0.818702</th>\n",
              "  </tr>\n",
              "  <tr>\n",
              "    <th>8</th>\n",
              "    <th>0.522377</th>\n",
              "    <th>0.519334</th>\n",
              "    <th>0.816794</th>\n",
              "  </tr>\n",
              "  <tr>\n",
              "    <th>9</th>\n",
              "    <th>0.528663</th>\n",
              "    <th>0.520238</th>\n",
              "    <th>0.816794</th>\n",
              "  </tr>\n",
              "  <tr>\n",
              "    <th>10</th>\n",
              "    <th>0.532390</th>\n",
              "    <th>0.526258</th>\n",
              "    <th>0.818702</th>\n",
              "  </tr>\n",
              "</table>\n"
            ],
            "text/plain": [
              "<IPython.core.display.HTML object>"
            ]
          },
          "metadata": {
            "tags": []
          }
        },
        {
          "output_type": "display_data",
          "data": {
            "image/png": "[encoded data removed]",
            "text/plain": [
              "<matplotlib.figure.Figure at 0x7f31c2b05dd8>"
            ]
          },
          "metadata": {
            "tags": []
          }
        }
      ]
    },
    {
      "metadata": {
        "id": "ibN8EDtG70Jc",
        "colab_type": "code",
        "colab": {}
      },
      "cell_type": "code",
      "source": [
        "learn.unfreeze()"
      ],
      "execution_count": 0,
      "outputs": []
    },
    {
      "metadata": {
        "id": "xb8ufhk09Euy",
        "colab_type": "code",
        "colab": {
          "base_uri": "https://localhost:8080/",
          "height": 528
        },
        "outputId": "80bc83c4-e586-4757-996c-425b1f1bb5c3"
      },
      "cell_type": "code",
      "source": [
        "learn.fit_one_cycle(10, slice(1e-5, 1e-4))"
      ],
      "execution_count": 151,
      "outputs": [
        {
          "output_type": "display_data",
          "data": {
            "text/html": [
              "Total time: 05:28 <p><table style='width:300px; margin-bottom:10px'>\n",
              "  <tr>\n",
              "    <th>epoch</th>\n",
              "    <th>train_loss</th>\n",
              "    <th>valid_loss</th>\n",
              "    <th>accuracy</th>\n",
              "  </tr>\n",
              "  <tr>\n",
              "    <th>1</th>\n",
              "    <th>0.528195</th>\n",
              "    <th>0.518635</th>\n",
              "    <th>0.818702</th>\n",
              "  </tr>\n",
              "  <tr>\n",
              "    <th>2</th>\n",
              "    <th>0.518990</th>\n",
              "    <th>0.520081</th>\n",
              "    <th>0.814885</th>\n",
              "  </tr>\n",
              "  <tr>\n",
              "    <th>3</th>\n",
              "    <th>0.511073</th>\n",
              "    <th>0.509469</th>\n",
              "    <th>0.824427</th>\n",
              "  </tr>\n",
              "  <tr>\n",
              "    <th>4</th>\n",
              "    <th>0.515402</th>\n",
              "    <th>0.509822</th>\n",
              "    <th>0.816794</th>\n",
              "  </tr>\n",
              "  <tr>\n",
              "    <th>5</th>\n",
              "    <th>0.499259</th>\n",
              "    <th>0.538575</th>\n",
              "    <th>0.811069</th>\n",
              "  </tr>\n",
              "  <tr>\n",
              "    <th>6</th>\n",
              "    <th>0.488178</th>\n",
              "    <th>0.508593</th>\n",
              "    <th>0.820611</th>\n",
              "  </tr>\n",
              "  <tr>\n",
              "    <th>7</th>\n",
              "    <th>0.474335</th>\n",
              "    <th>0.515354</th>\n",
              "    <th>0.814885</th>\n",
              "  </tr>\n",
              "  <tr>\n",
              "    <th>8</th>\n",
              "    <th>0.471575</th>\n",
              "    <th>0.513857</th>\n",
              "    <th>0.814885</th>\n",
              "  </tr>\n",
              "  <tr>\n",
              "    <th>9</th>\n",
              "    <th>0.463361</th>\n",
              "    <th>0.513670</th>\n",
              "    <th>0.818702</th>\n",
              "  </tr>\n",
              "  <tr>\n",
              "    <th>10</th>\n",
              "    <th>0.455065</th>\n",
              "    <th>0.517039</th>\n",
              "    <th>0.818702</th>\n",
              "  </tr>\n",
              "</table>\n"
            ],
            "text/plain": [
              "<IPython.core.display.HTML object>"
            ]
          },
          "metadata": {
            "tags": []
          }
        },
        {
          "output_type": "display_data",
          "data": {
            "image/png": "[encoded data removed]",
            "text/plain": [
              "<matplotlib.figure.Figure at 0x7f31ae1be208>"
            ]
          },
          "metadata": {
            "tags": []
          }
        }
      ]
    },
    {
      "metadata": {
        "id": "w_lGBMUBIdDq",
        "colab_type": "code",
        "colab": {}
      },
      "cell_type": "code",
      "source": [
        ""
      ],
      "execution_count": 0,
      "outputs": []
    }
  ]
}